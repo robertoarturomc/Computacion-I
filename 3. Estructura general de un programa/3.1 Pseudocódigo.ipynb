{
  "nbformat": 4,
  "nbformat_minor": 0,
  "metadata": {
    "colab": {
      "name": "3.1 PSeudocódigo.ipynb",
      "provenance": []
    },
    "kernelspec": {
      "name": "python3",
      "display_name": "Python 3"
    },
    "language_info": {
      "name": "python"
    }
  },
  "cells": [
    {
      "cell_type": "markdown",
      "source": [
        "# 3.1 Pseudocódigo\n",
        "## Números pseudoaleatorios -  Método de los cuadrados medios"
      ],
      "metadata": {
        "id": "JLsEX_jfrRwH"
      }
    },
    {
      "cell_type": "code",
      "source": [
        "#INICIO\n",
        "#ESCOJO un valor inicial de cuatro cifras\n",
        "xn = 7261\n",
        "\n",
        "#ELEVO AL CUADRADO el valor inicial\n",
        "xn_2 = str(xn ** 2)\n",
        "\n",
        "#SI tengo menos de 8 cifras ENTONCES agrego 0s\n",
        "if len(str(xn_2)) < 8:\n",
        "  xn_2 = \"0\" + xn_2\n",
        "  if len(str(xn_2)) < 8:\n",
        "    xn_2 = \"0\" + xn_2\n",
        "    if len(str(xn_2)) < 8:\n",
        "      xn_2 = \"0\" + xn_2\n",
        "      if len(str(xn_2)) < 8:\n",
        "        xn_2 = \"0\" + xn_2\n",
        "        if len(str(xn_2)) < 8:\n",
        "          xn_2 = \"0\" + xn_2\n",
        "          if len(str(xn_2)) < 8:\n",
        "            xn_2 = \"0\" + xn_2\n",
        "            if len(str(xn_2)) < 8:\n",
        "              xn_2 = \"0\" + xn_2\n",
        "\n",
        "#EXTRAIGO las 4 cifras de en medio\n",
        "cifras_enmedio = xn_2[2:6]\n",
        "print(\"X0 cuadrado: \", xn_2)\n",
        "print(\"Cifras medias\", cifras_enmedio)\n",
        "\n",
        "#GENERO mi pseudoaleatorio agregando un punto antes de mi Xn\n",
        "pseudoaleatorio = xn / 10000\n",
        "print(\"Número 1; \", pseudoaleatorio)\n",
        "\n",
        "#GUARDO las 4 cifras para que sean mi nuevo valor inicial\n",
        "xn = int(cifras_enmedio)\n",
        "\n",
        "#REPITO tantas veces como sea necesario\n",
        "\n",
        "xn_2 = str(xn ** 2)\n",
        "\n",
        "#SI tengo menos de 8 cifras ENTONCES agrego 0s\n",
        "if len(str(xn_2)) < 8:\n",
        "  xn_2 = \"0\" + xn_2\n",
        "  if len(str(xn_2)) < 8:\n",
        "    xn_2 = \"0\" + xn_2\n",
        "    if len(str(xn_2)) < 8:\n",
        "      xn_2 = \"0\" + xn_2\n",
        "      if len(str(xn_2)) < 8:\n",
        "        xn_2 = \"0\" + xn_2\n",
        "        if len(str(xn_2)) < 8:\n",
        "          xn_2 = \"0\" + xn_2\n",
        "          if len(str(xn_2)) < 8:\n",
        "            xn_2 = \"0\" + xn_2\n",
        "            if len(str(xn_2)) < 8:\n",
        "              xn_2 = \"0\" + xn_2\n",
        "\n",
        "#EXTRAIGO las 4 cifras de en medio\n",
        "cifras_enmedio = xn_2[2:6]\n",
        "print(\"X1 cuadrado: \", xn_2)\n",
        "print(\"Cifras medias: \", cifras_enmedio)\n",
        "\n",
        "#GENERO mi pseudoaleatorio agregando un punto antes de mi Xn\n",
        "pseudoaleatorio = xn / 10000\n",
        "print(\"Número 2: \", pseudoaleatorio)\n",
        "\n",
        "#GUARDO las 4 cifras para que sean mi nuevo valor inicial\n",
        "xn = cifras_enmedio\n",
        "\n",
        "\n",
        "\n",
        "#FIN\n"
      ],
      "metadata": {
        "colab": {
          "base_uri": "https://localhost:8080/"
        },
        "id": "jSIdUkmK8RtI",
        "outputId": "888dec9c-ba94-45a0-bb9a-44c586743efa"
      },
      "execution_count": 4,
      "outputs": [
        {
          "output_type": "stream",
          "name": "stdout",
          "text": [
            "X0 cuadrado:  52722121\n",
            "Cifras medias 7221\n",
            "Número 1;  0.7261\n",
            "X1 cuadrado:  52142841\n",
            "Cifras medias:  1428\n",
            "Número 2:  0.7221\n"
          ]
        }
      ]
    },
    {
      "cell_type": "code",
      "source": [
        ""
      ],
      "metadata": {
        "id": "NLBtcr6I-au7"
      },
      "execution_count": null,
      "outputs": []
    }
  ]
}