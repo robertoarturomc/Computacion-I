{
 "cells": [
  {
   "cell_type": "markdown",
   "metadata": {},
   "source": [
    "# Ejercicio 6: Funciones y Métodos\n",
    "\n",
    "#### Para este ejercicio, vamos a conocer y practicar distintas funciones y métodos.\n",
    "\n",
    "## Parte 1. Usando Funciones\n",
    "\n",
    "Ocupa los siguientes métodos y funciones para realizar a cabo las tareas que se te piden abajo. Si tienes alguna duda sobre su funcionamiento, ocupa el signo de exclamación o google el funcionamiento de cada una."
   ]
  },
  {
   "cell_type": "markdown",
   "metadata": {},
   "source": [
    "* Funciones:\n",
    "\n",
    "`abs()`\n",
    "\n",
    "`round()`\n",
    "    \n",
    "* Métodos:\n",
    "    \n",
    "`.lower()`\n",
    "\n",
    "`.strip()`\n",
    "\n",
    "`.count()`\n",
    "\n",
    "`.replace()`"
   ]
  },
  {
   "cell_type": "code",
   "execution_count": 1,
   "metadata": {},
   "outputs": [],
   "source": [
    "# 1. Imprime las siguientes variables, pero escritas en minúsculas:\n",
    "text1 = \"¡MILHOUE!\" \n",
    "text2 = \"¡¿QUÉ?!\"\n",
    "text3 = \"¡DILE A BART QUE VENGA AQUÍ!\""
   ]
  },
  {
   "cell_type": "code",
   "execution_count": null,
   "metadata": {},
   "outputs": [],
   "source": []
  },
  {
   "cell_type": "code",
   "execution_count": null,
   "metadata": {},
   "outputs": [],
   "source": [
    "# 2. Redondea los siguientes valores al entero más cercano:\n",
    "num1 = 1.2\n",
    "num2 = 6.8\n",
    "num3 = 17/3"
   ]
  },
  {
   "cell_type": "code",
   "execution_count": null,
   "metadata": {},
   "outputs": [],
   "source": []
  },
  {
   "cell_type": "code",
   "execution_count": 4,
   "metadata": {},
   "outputs": [],
   "source": [
    "# 3. Calcula los valores absolutos de los siguientes números:\n",
    "num4 = -5\n",
    "num5 = 1.666"
   ]
  },
  {
   "cell_type": "code",
   "execution_count": null,
   "metadata": {},
   "outputs": [],
   "source": []
  },
  {
   "cell_type": "code",
   "execution_count": 5,
   "metadata": {},
   "outputs": [],
   "source": [
    "# 4. Imprime las variables, pero sin el espacio que aparece al principio y al final de los siguientes textos:\n",
    "text4 = \" Aserejé \"\n",
    "text5 = \" Me rehúso \""
   ]
  },
  {
   "cell_type": "code",
   "execution_count": null,
   "metadata": {},
   "outputs": [],
   "source": []
  },
  {
   "cell_type": "code",
   "execution_count": 10,
   "metadata": {},
   "outputs": [],
   "source": [
    "# 5. Cuenta cuantas veces aparece La letra \"t\" en el siguiente texto\n",
    "text6 = \"tres tristes tigres tragaban trigo en un trigal\""
   ]
  },
  {
   "cell_type": "code",
   "execution_count": null,
   "metadata": {},
   "outputs": [],
   "source": []
  },
  {
   "cell_type": "code",
   "execution_count": 9,
   "metadata": {},
   "outputs": [
    {
     "data": {
      "text/plain": [
       "'El alumno Roberto no pudo asistir a clases debido a que presenta un cuadro grave de calentura. Atte: Dr. Perengano.'"
      ]
     },
     "execution_count": 9,
     "metadata": {},
     "output_type": "execute_result"
    }
   ],
   "source": [
    "# 7. Reemplaza el nombre \"Fulano\" en el siguiente texto, con tu propio nombre:\n",
    "text7 = \"El alumno Fulano no pudo asistir a clases debido a que presenta un cuadro grave de calentura. Atte: Dr. Perengano.\"\n"
   ]
  },
  {
   "cell_type": "code",
   "execution_count": null,
   "metadata": {},
   "outputs": [],
   "source": []
  },
  {
   "cell_type": "markdown",
   "metadata": {},
   "source": [
    "## Parte 2. Creando Funciones"
   ]
  },
  {
   "cell_type": "markdown",
   "metadata": {},
   "source": [
    "### 1.\n",
    "\n",
    "Completa la función que calcule los beneficios totales, si tienes a la mano el precio, la cantidad y los costos. Recuerda que la fórmula es:\n",
    "\n",
    "`beneficiosTotales = ingresosTotales - costosTotales`\n",
    "\n",
    "`beneficiosTotales = (precio * cantidad) - (costosFijos + costosVariables)`\n"
   ]
  },
  {
   "cell_type": "code",
   "execution_count": null,
   "metadata": {},
   "outputs": [],
   "source": [
    "def beneficiosTotales(precio, cantidad, costosFijos, costosVariables):\n",
    "    beneficios = ...\n",
    "    return beneficios"
   ]
  },
  {
   "cell_type": "code",
   "execution_count": null,
   "metadata": {},
   "outputs": [],
   "source": [
    "# Si tu formula funciona, este resultado debe ser igual a 425\n",
    "beneficiosTotales(5, 100, 25, 50)"
   ]
  },
  {
   "cell_type": "markdown",
   "metadata": {},
   "source": [
    "### 2.\n",
    "Crea una función que calcule la tasa de desempleo. La fórmula es:\n",
    "\n",
    "`tasaDesempleo = desempleados / empleados`"
   ]
  },
  {
   "cell_type": "code",
   "execution_count": null,
   "metadata": {},
   "outputs": [],
   "source": [
    "def tasaDesempleo..."
   ]
  },
  {
   "cell_type": "markdown",
   "metadata": {},
   "source": [
    "### 3. \n",
    "Ocupa tu fórmula para calcular las tasas de desempleo de los siguientes dos países:"
   ]
  },
  {
   "cell_type": "code",
   "execution_count": 14,
   "metadata": {},
   "outputs": [],
   "source": [
    "wakanda={\"desempleo\":125,\n",
    "         \"empleo\":15625}\n",
    "sokovia={\"desempleo\":1024,\n",
    "         \"empleo\":16384}"
   ]
  },
  {
   "cell_type": "code",
   "execution_count": null,
   "metadata": {},
   "outputs": [],
   "source": [
    "tasaDesempleo()"
   ]
  },
  {
   "cell_type": "code",
   "execution_count": null,
   "metadata": {},
   "outputs": [],
   "source": [
    "tasaDesempleo()"
   ]
  },
  {
   "cell_type": "markdown",
   "metadata": {},
   "source": [
    "### 4.\n",
    "Importa el módulo math, usando la siguiente celda. A continuación, calcula lo que se te pide. Investiga el nombre de la función, de ser necesario."
   ]
  },
  {
   "cell_type": "code",
   "execution_count": 17,
   "metadata": {},
   "outputs": [],
   "source": [
    "# Coseno de 3.1416 radianes. Por cierto, math trabaja con radianes por default...\n"
   ]
  },
  {
   "cell_type": "code",
   "execution_count": 18,
   "metadata": {},
   "outputs": [],
   "source": [
    "# e elevado al cubo.\n"
   ]
  },
  {
   "cell_type": "code",
   "execution_count": 19,
   "metadata": {},
   "outputs": [],
   "source": [
    "# 90 grados convertidos a radianes\n"
   ]
  },
  {
   "cell_type": "code",
   "execution_count": 20,
   "metadata": {},
   "outputs": [],
   "source": [
    "# 9.1 redondeado hacia arriba. Tip: tienes que encontrar el \"techo\".\n"
   ]
  },
  {
   "cell_type": "code",
   "execution_count": null,
   "metadata": {},
   "outputs": [],
   "source": []
  }
 ],
 "metadata": {
  "kernelspec": {
   "display_name": "Python 3",
   "language": "python",
   "name": "python3"
  },
  "language_info": {
   "codemirror_mode": {
    "name": "ipython",
    "version": 3
   },
   "file_extension": ".py",
   "mimetype": "text/x-python",
   "name": "python",
   "nbconvert_exporter": "python",
   "pygments_lexer": "ipython3",
   "version": "3.7.3"
  }
 },
 "nbformat": 4,
 "nbformat_minor": 2
}
