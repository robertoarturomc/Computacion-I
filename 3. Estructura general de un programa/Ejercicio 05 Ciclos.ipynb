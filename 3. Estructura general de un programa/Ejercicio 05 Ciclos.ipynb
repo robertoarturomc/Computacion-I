{
 "cells": [
  {
   "cell_type": "markdown",
   "metadata": {},
   "source": [
    "# Ejercicio 05\n",
    "## Ciclos"
   ]
  },
  {
   "cell_type": "markdown",
   "metadata": {},
   "source": [
    "1. Escribe un ciclo que te imprima los primeros diez múltiplos de 5."
   ]
  },
  {
   "cell_type": "code",
   "execution_count": null,
   "metadata": {},
   "outputs": [],
   "source": [
    "print(\"Los primeros diez múltiplos de 5 son:\")\n",
    "\n",
    "for ..."
   ]
  },
  {
   "cell_type": "markdown",
   "metadata": {},
   "source": [
    "2. Genera el resultado de multiplicar los números del 1 al 6."
   ]
  },
  {
   "cell_type": "code",
   "execution_count": null,
   "metadata": {},
   "outputs": [],
   "source": [
    "print(\"El resultado de multiplicar los primeros seis enteros es:\")\n",
    "\n",
    "for ..."
   ]
  },
  {
   "cell_type": "markdown",
   "metadata": {},
   "source": [
    "3. Escribe un ciclo *while* con las siguientes condiciones:\n",
    "\n",
    "Hasta que z sea menor que 1, divide z entre 2. Cada vez que lo hagas, imprime el valor de z."
   ]
  },
  {
   "cell_type": "code",
   "execution_count": 1,
   "metadata": {},
   "outputs": [
    {
     "name": "stdout",
     "output_type": "stream",
     "text": [
      "12.5\n",
      "6.25\n",
      "3.125\n",
      "1.5625\n",
      "0.78125\n"
     ]
    }
   ],
   "source": [
    "z = 25\n",
    "while ..."
   ]
  },
  {
   "cell_type": "markdown",
   "metadata": {},
   "source": [
    "## Algoritmos\n",
    "\n",
    "Ahora que ya sabes las sentencias básicas de computación, ¡es hora de ponerlas en práctica! Para hacerlo, desarrolla los siguientes algoritmos (tip: escribe antes tu pseudocódigo), y realiza un programa que te ayude a resolver los problemas:"
   ]
  },
  {
   "cell_type": "markdown",
   "metadata": {},
   "source": [
    "1. Eres un nuevo inversionista. Decides invertir diez mil pesos en bonos de gobierno, que te ofrecen un retorno a una tasa del 6% anual. Quieres que tu inversión permanezca hasta que llegue a, al menos, veinte mil pesos. ¿Cuántos años deberá permanecer su inversión?\n"
   ]
  },
  {
   "cell_type": "code",
   "execution_count": null,
   "metadata": {},
   "outputs": [],
   "source": []
  },
  {
   "cell_type": "markdown",
   "metadata": {},
   "source": [
    "2. Imprime las tablas de multiplicar del 1 al 10. Para saber qué formato usar, te regalo la siguiente línea de código:\n",
    "\n",
    "    `print(i, \" x \", j, \"=\", i*j)`"
   ]
  },
  {
   "cell_type": "code",
   "execution_count": null,
   "metadata": {},
   "outputs": [],
   "source": []
  },
  {
   "cell_type": "markdown",
   "metadata": {},
   "source": [
    "3. En México, el impuesto sobre la Renta depende de cuántos sean tus ingresos anuales. Entre más ganes, más porcentaje de impuestos deberás pagar. Crea un programa que, dependiendo del valor de _salario_ que introduzcas, te regrese el impuesto en pesos mexicanos (MXN) que deberás pagar.\n",
    "\n",
    "|Tipos impositivos anuales para los residentes|\tVarían de 1,92% a 35% (2021)|\n",
    "|---|---|\n",
    "|De 1 a 7.735 MXN\t|1,92%|\n",
    "|De 7.735,01 a 65.651,07 MXN|\t6,4%|\n",
    "|De 65.651,08 a 115.375,90 MXN|\t10,88%|\n",
    "|De 115.375,91 a 134.119,41 MXN|\t16%|\n",
    "| etc...|etc...| \n",
    "\n",
    "Supón que, si la persona gana más de 134.119,41 MXN, la tasa a usar será del 20%."
   ]
  },
  {
   "cell_type": "code",
   "execution_count": null,
   "metadata": {},
   "outputs": [],
   "source": [
    "salario = "
   ]
  }
 ],
 "metadata": {
  "kernelspec": {
   "display_name": "Python 3",
   "language": "python",
   "name": "python3"
  },
  "language_info": {
   "codemirror_mode": {
    "name": "ipython",
    "version": 3
   },
   "file_extension": ".py",
   "mimetype": "text/x-python",
   "name": "python",
   "nbconvert_exporter": "python",
   "pygments_lexer": "ipython3",
   "version": "3.7.3"
  }
 },
 "nbformat": 4,
 "nbformat_minor": 2
}
