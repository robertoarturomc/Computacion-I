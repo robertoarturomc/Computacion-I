{
 "cells": [
  {
   "cell_type": "markdown",
   "metadata": {},
   "source": [
    "# 3.2 Funciones y Métodos\n",
    "\n",
    "¿Recuerdas las funciones en Matemáticas? En general, las funciones son relaciones entre los elementos de dos conjuntos. Estas relaciones suelen realizarse a través de una serie de operaciones matemáticas.\n",
    "\n",
    "En programación, el concepto es un poco más amplio. Una **función** es una serie de operaciones o transformaciones que pretendemos realizar, pero que resumimos con algún nombre clave.\n",
    "\n",
    "No necesariamente son cálculos matemáticos, sino que pueden ser otras tareas de programación que quiero realizar. Es decir, me pueden ayudar a resumir instrucciones.\n",
    "\n",
    "Las funciones en Python se ven más o menos así:\n",
    "\n",
    "`nombreFuncion(argumento_1, argumento_2, ... argumento_n)`\n",
    "\n",
    "Los **argumentos** son especificaciones (a veces, opcionales) que puedodarle a una función."
   ]
  },
  {
   "cell_type": "markdown",
   "metadata": {},
   "source": [
    "Si prestas atención, verás que ya has usado funciones:"
   ]
  },
  {
   "cell_type": "code",
   "execution_count": null,
   "metadata": {},
   "outputs": [],
   "source": [
    "print(\"Esta función sirve para imprimir un texto\")"
   ]
  },
  {
   "cell_type": "code",
   "execution_count": null,
   "metadata": {},
   "outputs": [],
   "source": [
    "arg1 = \"con varios\"\n",
    "print(\"Y se puede usar \", arg1, \"argumentos\")"
   ]
  },
  {
   "cell_type": "markdown",
   "metadata": {},
   "source": [
    "Los programadores tenemos un acrónimo **DRY:** Don't Repeat Yourself. En general, debemos evitar repetir líneas parecidas. Para eso nos ayudan las funciones.\n",
    "\n",
    "## Obteniendo información sobre una función\n",
    "Vamos a introducir la función `max`. Suena a que podría ser útil para obtener el valor más grande de...una lista, por ejemplo. ¿Será cierto? ¿Cómo lo confirmo?\n",
    "\n",
    "En google, puedes buscar fácilmente la documentación de las funciones de Python.\n",
    "\n",
    "Alternativamente, si estás trabajando con Notebooks, puedes escribir un signo de interrogación, seguido del nombre de la función, para que veas más información sobre la misma, pero directamente sobre la ventana de Notebook."
   ]
  },
  {
   "cell_type": "code",
   "execution_count": 1,
   "metadata": {},
   "outputs": [],
   "source": [
    "?abs"
   ]
  },
  {
   "cell_type": "markdown",
   "metadata": {},
   "source": [
    "Antes de ponerla en acción, veamos cómo tendría que calcular el valor absoluto de algún número."
   ]
  },
  {
   "cell_type": "code",
   "execution_count": 2,
   "metadata": {},
   "outputs": [],
   "source": [
    "numero1 = -5"
   ]
  },
  {
   "cell_type": "code",
   "execution_count": 3,
   "metadata": {},
   "outputs": [
    {
     "data": {
      "text/plain": [
       "5"
      ]
     },
     "execution_count": 3,
     "metadata": {},
     "output_type": "execute_result"
    }
   ],
   "source": [
    "# Si el número es menor que 0 (negativo), lo cambio a positivo. de otra manera, lo dejo igual.\n",
    "\n",
    "if numero1<0:\n",
    "    numero1_abs = -1 * numero1\n",
    "else:\n",
    "    numero1_abs = numero1\n",
    "\n",
    "numero1_abs "
   ]
  },
  {
   "cell_type": "markdown",
   "metadata": {},
   "source": [
    "Relativamente fácil, ¿no? A ver, calculemos el valor máximo de cada una de los siguientes números:\n"
   ]
  },
  {
   "cell_type": "code",
   "execution_count": 5,
   "metadata": {},
   "outputs": [],
   "source": [
    "numero2 = 25\n",
    "numero3 = -1/4\n",
    "numero4 = -1.23\n",
    "numero5 = 3.1416"
   ]
  },
  {
   "cell_type": "markdown",
   "metadata": {},
   "source": [
    "Usando nuestro snippet anterior, tendríamos que hacer algo así:"
   ]
  },
  {
   "cell_type": "code",
   "execution_count": 6,
   "metadata": {},
   "outputs": [
    {
     "name": "stdout",
     "output_type": "stream",
     "text": [
      "25\n",
      "0.25\n",
      "1.23\n",
      "3.1416\n"
     ]
    }
   ],
   "source": [
    "if numero2<0:\n",
    "    numero2_abs = -1 * numero2\n",
    "else:\n",
    "    numero2_abs = numero2\n",
    "\n",
    "if numero3<0:\n",
    "    numero3_abs = -1 * numero3\n",
    "else:\n",
    "    numero3_abs = numero3\n",
    "\n",
    "if numero4<0:\n",
    "    numero4_abs = -1 * numero4\n",
    "else:\n",
    "    numero4_abs = numero4\n",
    "\n",
    "if numero5<0:\n",
    "    numero5_abs = -1 * numero5\n",
    "else:\n",
    "    numero5_abs = numero5\n",
    "        \n",
    "print(numero2_abs)\n",
    "print(numero3_abs)\n",
    "print(numero4_abs)\n",
    "print(numero5_abs)"
   ]
  },
  {
   "cell_type": "markdown",
   "metadata": {},
   "source": [
    "¡Es cansado copiar y pegar! Además es muy probable que, al ser una tarea tan repetitiva, tenga un error humano al copiar y pegar, o al modificar lo que tenga que modificar (como los nombres de las variables).\n",
    "\n",
    "En cambio, usando funciones..."
   ]
  },
  {
   "cell_type": "code",
   "execution_count": 7,
   "metadata": {},
   "outputs": [
    {
     "name": "stdout",
     "output_type": "stream",
     "text": [
      "25\n",
      "0.25\n",
      "1.23\n",
      "3.1416\n"
     ]
    }
   ],
   "source": [
    "print(abs(numero2_abs))\n",
    "print(abs(numero3_abs))\n",
    "print(abs(numero4_abs))\n",
    "print(abs(numero5_abs))"
   ]
  },
  {
   "cell_type": "markdown",
   "metadata": {},
   "source": [
    "¡Fue muchísimo más rápido! Además, mi código quedo más limpio y fácil de entender.\n",
    "\n",
    "Eso, sin contar que me ahorré tiempo, puesto que no tuve que pensar en el algoritmo (los pasos que se necesitan) para calcular el valor absoluto. "
   ]
  },
  {
   "cell_type": "markdown",
   "metadata": {},
   "source": [
    "## Métodos en Python "
   ]
  },
  {
   "cell_type": "markdown",
   "metadata": {},
   "source": [
    "Normalmente, las **funciones** se pueden ocupar en más de un tipo de dato o estructura de datos. Algunos, bajo ciertas condiciones. Por ejemplo:"
   ]
  },
  {
   "cell_type": "code",
   "execution_count": 1,
   "metadata": {},
   "outputs": [
    {
     "name": "stdout",
     "output_type": "stream",
     "text": [
      "1\n",
      "Johnny, la gente está muy loca\n",
      "Hoy cumplimos  3  años\n"
     ]
    }
   ],
   "source": [
    "# Con enteros\n",
    "print(1)\n",
    "\n",
    "# Con strings\n",
    "print(\"Johnny, la gente está muy loca\")\n",
    "\n",
    "# Con más de un **argumento**\n",
    "print(\"Hoy cumplimos \", str(3), \" años\")\n"
   ]
  },
  {
   "cell_type": "markdown",
   "metadata": {},
   "source": [
    "A veces tienen algunas limitantes, como al tratar de calcular el mínimo de un listado de textos y números a la vez..."
   ]
  },
  {
   "cell_type": "code",
   "execution_count": 2,
   "metadata": {},
   "outputs": [
    {
     "ename": "TypeError",
     "evalue": "'<' not supported between instances of 'int' and 'str'",
     "output_type": "error",
     "traceback": [
      "\u001b[1;31m---------------------------------------------------------------------------\u001b[0m",
      "\u001b[1;31mTypeError\u001b[0m                                 Traceback (most recent call last)",
      "\u001b[1;32m<ipython-input-2-30777cb5b5d2>\u001b[0m in \u001b[0;36m<module>\u001b[1;34m\u001b[0m\n\u001b[1;32m----> 1\u001b[1;33m \u001b[0mmin\u001b[0m\u001b[1;33m(\u001b[0m\u001b[1;34m\"Katy\"\u001b[0m\u001b[1;33m,\u001b[0m \u001b[1;34m\"Gaga\"\u001b[0m\u001b[1;33m,\u001b[0m \u001b[1;36m25\u001b[0m\u001b[1;33m,\u001b[0m \u001b[1;36m750\u001b[0m\u001b[1;33m,\u001b[0m \u001b[1;34m\"Miley\"\u001b[0m\u001b[1;33m)\u001b[0m\u001b[1;33m\u001b[0m\u001b[1;33m\u001b[0m\u001b[0m\n\u001b[0m",
      "\u001b[1;31mTypeError\u001b[0m: '<' not supported between instances of 'int' and 'str'"
     ]
    }
   ],
   "source": [
    "min(\"Katy\", \"Gaga\", 25, 750, \"Miley\")"
   ]
  },
  {
   "cell_type": "markdown",
   "metadata": {},
   "source": [
    "Pero esos son casos particulares, En general, las funciones tienen varios usos.\n",
    "\n",
    "En cambio, a veces queremos tener la usabilidad de una función, pero aplicada a sólo un dato o estructura en específico. \n",
    "\n",
    "Por ejemplo, para redondear un número. ¡No puedo sacar el valor redondeado de un texto! Entonces, si trato de usar la función correspondiente, tendré un error."
   ]
  },
  {
   "cell_type": "code",
   "execution_count": 8,
   "metadata": {},
   "outputs": [
    {
     "data": {
      "text/plain": [
       "2.0"
      ]
     },
     "execution_count": 8,
     "metadata": {},
     "output_type": "execute_result"
    }
   ],
   "source": [
    "# Con un dato que sí es numérico...\n",
    "\n",
    "round(2.5, 0)"
   ]
  },
  {
   "cell_type": "code",
   "execution_count": 9,
   "metadata": {},
   "outputs": [
    {
     "ename": "TypeError",
     "evalue": "type str doesn't define __round__ method",
     "output_type": "error",
     "traceback": [
      "\u001b[1;31m---------------------------------------------------------------------------\u001b[0m",
      "\u001b[1;31mTypeError\u001b[0m                                 Traceback (most recent call last)",
      "\u001b[1;32m<ipython-input-9-c5fe21359fac>\u001b[0m in \u001b[0;36m<module>\u001b[1;34m\u001b[0m\n\u001b[0;32m      3\u001b[0m \u001b[0mvar1\u001b[0m \u001b[1;33m=\u001b[0m \u001b[1;34m\"calabaza\"\u001b[0m\u001b[1;33m\u001b[0m\u001b[1;33m\u001b[0m\u001b[0m\n\u001b[0;32m      4\u001b[0m \u001b[1;33m\u001b[0m\u001b[0m\n\u001b[1;32m----> 5\u001b[1;33m \u001b[0mround\u001b[0m\u001b[1;33m(\u001b[0m\u001b[1;34m\"calabaza\"\u001b[0m\u001b[1;33m,\u001b[0m \u001b[1;36m0\u001b[0m\u001b[1;33m)\u001b[0m\u001b[1;33m\u001b[0m\u001b[1;33m\u001b[0m\u001b[0m\n\u001b[0m",
      "\u001b[1;31mTypeError\u001b[0m: type str doesn't define __round__ method"
     ]
    }
   ],
   "source": [
    "# ¡Pero si lo intento con un texto, tendré un error!\n",
    "\n",
    "var1 = \"calabaza\"\n",
    "\n",
    "round(\"calabaza\", 0)"
   ]
  },
  {
   "cell_type": "markdown",
   "metadata": {},
   "source": [
    "Para evitar ese tipo de errores, existe algo muy similar a las funciones, pero que están limitados especificamente a un tipo de dato en particular (o estructura de datos * Spoiler alert * ). Por ejemplo, ¿qué pasa si quiero convertir un texto a mayúsculas? Eso es exclusivo para los datos tipo _string_ ...y lo haría así:"
   ]
  },
  {
   "cell_type": "code",
   "execution_count": 10,
   "metadata": {},
   "outputs": [
    {
     "data": {
      "text/plain": [
       "'URSSS'"
      ]
     },
     "execution_count": 10,
     "metadata": {},
     "output_type": "execute_result"
    }
   ],
   "source": [
    "texto1 = \"Ursss\"\n",
    "\n",
    "texto1.upper()"
   ]
  },
  {
   "cell_type": "markdown",
   "metadata": {},
   "source": [
    "A `.upper()` se le conoce como **método**. \n",
    "\n",
    "Son muy, pero muy parecidas a las funciones. Su principal diferencia es que estos son específicos a cada tipo de datos o de estructura. Por eso, se usan ligeramente diferente: se escribe el objeto al que se va a aplicar, seguido de un punto y del nombre del método a usar. Es importante abrir y cerrar paréntesis; incluso, si mi método no tiene *argumentos*.\n",
    "\n",
    "Un argumento, por cierto, es lo que va adentro de los paréntesis y sirve para especificar cambios o formas de usar una función."
   ]
  },
  {
   "cell_type": "code",
   "execution_count": 5,
   "metadata": {},
   "outputs": [],
   "source": [
    "# Nota: para pedir ayuda en un método, tienes que escribir el nombre completo.\n",
    "?list.append"
   ]
  },
  {
   "cell_type": "code",
   "execution_count": null,
   "metadata": {},
   "outputs": [],
   "source": []
  }
 ],
 "metadata": {
  "kernelspec": {
   "display_name": "Python 3",
   "language": "python",
   "name": "python3"
  },
  "language_info": {
   "codemirror_mode": {
    "name": "ipython",
    "version": 3
   },
   "file_extension": ".py",
   "mimetype": "text/x-python",
   "name": "python",
   "nbconvert_exporter": "python",
   "pygments_lexer": "ipython3",
   "version": "3.7.3"
  }
 },
 "nbformat": 4,
 "nbformat_minor": 2
}
