{
 "cells": [
  {
   "cell_type": "markdown",
   "id": "9e1c3151",
   "metadata": {},
   "source": [
    "# Ejercicio 11: Recursividad\n"
   ]
  },
  {
   "cell_type": "markdown",
   "id": "5deb67b1",
   "metadata": {},
   "source": [
    "### 1. Crea una función recursiva que regrese la suma de los primeros n números naturales.\n",
    "\n",
    "Tip: será muuuuuy parecida a la que calculaba el factorial."
   ]
  },
  {
   "cell_type": "code",
   "execution_count": null,
   "id": "f99eef7d",
   "metadata": {},
   "outputs": [],
   "source": []
  },
  {
   "cell_type": "code",
   "execution_count": null,
   "id": "542c0437",
   "metadata": {},
   "outputs": [],
   "source": [
    "# Prueba tu función cuando n=10 y n=15. Si está correcta, el resultado deberá ser 55 y 120\n"
   ]
  },
  {
   "cell_type": "markdown",
   "id": "5d2e3029",
   "metadata": {},
   "source": [
    "### 2. Crea una versión de la siguiente función:  $f(n) = 3 * n$; es decir, los múltiplos de 3, pero calculado de forma recursiva."
   ]
  },
  {
   "cell_type": "code",
   "execution_count": null,
   "id": "cdae8186",
   "metadata": {},
   "outputs": [],
   "source": []
  },
  {
   "cell_type": "code",
   "execution_count": 3,
   "id": "53c76194",
   "metadata": {},
   "outputs": [],
   "source": [
    "# Prueba tu función cuando n=20. Si está correcta, el resultado deberá ser 60."
   ]
  },
  {
   "cell_type": "markdown",
   "id": "e8d21bf6",
   "metadata": {},
   "source": [
    "### 3. El triángulo de Pascal es una herramienta matemática ocupada sobretodo al calcular los coeficientes y potencias de los binomios:"
   ]
  },
  {
   "cell_type": "markdown",
   "id": "f69032b3",
   "metadata": {},
   "source": [
    "![Image](https://quizizz.com/media/resource/gs/quizizz-media/quizzes/5d0e09e3-6ee7-4479-94df-d3cf09bfe9ae)"
   ]
  },
  {
   "cell_type": "markdown",
   "id": "6dff6a38",
   "metadata": {},
   "source": [
    "Se empieza con un 1, y cada hilera tiene 1 a los extremos. \n",
    "\n",
    "El resto de los valores se crea con la suma de los dos valores que están arriba de él. Por ejemplo, 10 = 4 + 6;  35 = 15 + 20, etc. "
   ]
  },
  {
   "cell_type": "markdown",
   "id": "80391bb2",
   "metadata": {},
   "source": [
    "Complementa la función que, recibiendo el valor de la hilera, te genere los valores para esa hilera de manera recursiva."
   ]
  },
  {
   "cell_type": "code",
   "execution_count": null,
   "id": "edc57a9b",
   "metadata": {},
   "outputs": [],
   "source": [
    "def pascal(n):\n",
    "    if n == 1:\n",
    "        return [1]\n",
    "    else:\n",
    "        # Empiezo cada línea con un 1\n",
    "        line = [1] \n",
    "        # Falta: Voy a necesitar los valores de la hilera anterior. ¿Qué será previous line?\n",
    "        previous_line =\n",
    "        \n",
    "        # Falta: llenar los corchetes. ¿qué números tengo que sumar?\n",
    "        for i in range(len(previous_line)-1):\n",
    "            line.append( line.append(previous_line[] + previous_line[]) ) \n",
    "        # Falta: agrega un 1 al final de la línea\n",
    "        \n",
    "    return line"
   ]
  },
  {
   "cell_type": "code",
   "execution_count": null,
   "id": "e9010518",
   "metadata": {},
   "outputs": [],
   "source": []
  },
  {
   "cell_type": "code",
   "execution_count": 20,
   "id": "8e01a487",
   "metadata": {},
   "outputs": [
    {
     "data": {
      "text/plain": [
       "[1, 5, 10, 10, 5, 1]"
      ]
     },
     "execution_count": 20,
     "metadata": {},
     "output_type": "execute_result"
    }
   ],
   "source": [
    "pascal(6)"
   ]
  },
  {
   "cell_type": "code",
   "execution_count": 19,
   "id": "a4ad08c5",
   "metadata": {},
   "outputs": [
    {
     "data": {
      "text/plain": [
       "[1, 7, 21, 35, 35, 21, 7, 1]"
      ]
     },
     "execution_count": 19,
     "metadata": {},
     "output_type": "execute_result"
    }
   ],
   "source": [
    "pascal(8)"
   ]
  },
  {
   "cell_type": "code",
   "execution_count": null,
   "id": "53060a33",
   "metadata": {},
   "outputs": [],
   "source": []
  }
 ],
 "metadata": {
  "kernelspec": {
   "display_name": "Python 3 (ipykernel)",
   "language": "python",
   "name": "python3"
  },
  "language_info": {
   "codemirror_mode": {
    "name": "ipython",
    "version": 3
   },
   "file_extension": ".py",
   "mimetype": "text/x-python",
   "name": "python",
   "nbconvert_exporter": "python",
   "pygments_lexer": "ipython3",
   "version": "3.7.12"
  }
 },
 "nbformat": 4,
 "nbformat_minor": 5
}
