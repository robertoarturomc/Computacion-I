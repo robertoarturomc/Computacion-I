{
 "cells": [
  {
   "cell_type": "markdown",
   "id": "7720c2dd",
   "metadata": {},
   "source": [
    "### 5.1 Recursión en Python\n",
    "\n",
    "En algunas ocasiones, al programar, nos enfrentaremos con el problema en el que una función necesita ocupar el resultado de esa misma función como parámetro. Si una función cumple con esa condición, decimos que es una **Función Recursiva**.\n",
    "\n",
    "Como podemos correr el riesgo de que se turne infinita nuestra recursión, es necesario que establezcamos una condición de término para esta función. Si no, nuestro problema continuará y continuará sin fin...\n",
    "\n",
    "Como ejemplo, ¿recuerdas la definición de un factorial (normalmente, escrito como un signo de exclamación -> **!** en matemáticas)?\n",
    "\n",
    "4! = 4 * 3 * 2 * 1\n",
    "\n",
    "3! = 3 * 2 * 1\n",
    "\n",
    "2! = 2 * 1\n",
    "\n",
    "Esto, también lo podemos escribir de la siguiente forma:\n",
    "\n",
    "4! = 4 * 3!\n",
    "\n",
    "3! = 3 * 2!\n",
    "\n",
    "2! = 2 * 1\n",
    "\n",
    "Es decir, para definir 4!, necesitamos el valor de 3!, para el cuál necesitamos el valor de 2!, etc.\n",
    "\n",
    "En otras palabras, la Recursión en Computación es un método en el cuál resolvemos un problema mediante la resolución de versiones pequeñas del mismo problema.\n",
    "\n",
    "¿Cómo se vería una función recursiva que calcule el factorial de un número?"
   ]
  },
  {
   "cell_type": "code",
   "execution_count": 1,
   "id": "2cf1dc10",
   "metadata": {},
   "outputs": [],
   "source": [
    "def factorial(n):\n",
    "    if n == 0:\n",
    "        result = 1\n",
    "    else:\n",
    "        result = n * factorial(n-1)\n",
    "    \n",
    "    return result "
   ]
  },
  {
   "cell_type": "markdown",
   "id": "aac97b1c",
   "metadata": {},
   "source": [
    "Fíjate cómo la función _factorial_ se llama a sí misma para calcular el resultado. ¡Y eso es posible en programación!\n",
    "\n",
    "Además, hay que poner atención a nuestra condición de término: sin especificar qué va a pasar cuando n llegue a 0, nuestra operación continuaría una y otra vez, de manera infinita."
   ]
  },
  {
   "cell_type": "code",
   "execution_count": 2,
   "id": "623fc92a",
   "metadata": {},
   "outputs": [
    {
     "data": {
      "text/plain": [
       "720"
      ]
     },
     "execution_count": 2,
     "metadata": {},
     "output_type": "execute_result"
    }
   ],
   "source": [
    "factorial(6)"
   ]
  },
  {
   "cell_type": "code",
   "execution_count": 3,
   "id": "3908581e",
   "metadata": {},
   "outputs": [
    {
     "data": {
      "text/plain": [
       "120"
      ]
     },
     "execution_count": 3,
     "metadata": {},
     "output_type": "execute_result"
    }
   ],
   "source": [
    "factorial(5)"
   ]
  },
  {
   "cell_type": "code",
   "execution_count": 4,
   "id": "7627d26e",
   "metadata": {},
   "outputs": [
    {
     "data": {
      "text/plain": [
       "24"
      ]
     },
     "execution_count": 4,
     "metadata": {},
     "output_type": "execute_result"
    }
   ],
   "source": [
    "factorial(4)"
   ]
  },
  {
   "cell_type": "markdown",
   "id": "b3e9094c",
   "metadata": {},
   "source": [
    "También podríamos haber hecho nuestra función de manera _iterativa_; es decir, con un ciclo que nos ayude a repetir las operaciones una y otra vez, tanto como sea necesario.\n",
    "\n",
    "Así se vería la versión iterativa:"
   ]
  },
  {
   "cell_type": "code",
   "execution_count": 5,
   "id": "37c83e0e",
   "metadata": {},
   "outputs": [],
   "source": [
    "def factorial_iter(n):\n",
    "    result = 1\n",
    "    for i in range(2,n+1):\n",
    "        result *= i\n",
    "    return result"
   ]
  },
  {
   "cell_type": "code",
   "execution_count": 6,
   "id": "c28f0595",
   "metadata": {},
   "outputs": [
    {
     "data": {
      "text/plain": [
       "720"
      ]
     },
     "execution_count": 6,
     "metadata": {},
     "output_type": "execute_result"
    }
   ],
   "source": [
    "factorial_iter(6)"
   ]
  },
  {
   "cell_type": "code",
   "execution_count": 7,
   "id": "92b9b225",
   "metadata": {},
   "outputs": [
    {
     "data": {
      "text/plain": [
       "120"
      ]
     },
     "execution_count": 7,
     "metadata": {},
     "output_type": "execute_result"
    }
   ],
   "source": [
    "factorial_iter(5)"
   ]
  },
  {
   "cell_type": "code",
   "execution_count": 8,
   "id": "998f1eab",
   "metadata": {},
   "outputs": [
    {
     "data": {
      "text/plain": [
       "24"
      ]
     },
     "execution_count": 8,
     "metadata": {},
     "output_type": "execute_result"
    }
   ],
   "source": [
    "factorial_iter(4)"
   ]
  },
  {
   "cell_type": "markdown",
   "id": "8a9b06a6",
   "metadata": {},
   "source": [
    "## Secuencia de Fibonacci"
   ]
  },
  {
   "cell_type": "markdown",
   "id": "56bd348e",
   "metadata": {},
   "source": [
    "¿Alguna vez viste el código Da Vinci? ¿O has visto con detenimiento las semillas de un girasol? O, ¿qué has oído sobre la proporción aurea? \n",
    "\n",
    "Exacto, esa que suele aparecer en estos Memes:"
   ]
  },
  {
   "cell_type": "markdown",
   "id": "6942bd7b",
   "metadata": {},
   "source": [
    "![Image](https://3.bp.blogspot.com/-MEOXLBzXUjI/Wqnw-SJ23UI/AAAAAAAABlQ/K_xfg-YxlvYsgVD5usbw6m6tyXkJ-ws6QCLcBGAs/s1600/AureaProgramador.jpg)"
   ]
  },
  {
   "cell_type": "markdown",
   "id": "f2ca097f",
   "metadata": {},
   "source": [
    "Bueno, esos conceptos se relacionan con una Secuencia de números, llamada la Secuencia de Fibonacci. \n",
    "\n",
    "0, 1, 1, 2, 3, 5, 8, 13, 21, 34, 55, 89\n",
    "\n",
    "Es decir, empezamos por el 0 y el 1, y a partir de ahí, cada número es igual a la suma de los dos números anteriores:\n",
    "\n",
    "$ F_n = F _{n-1} + F _{n-2} $\n",
    "\n",
    "$ 89 = 55 + 34 $\n",
    "\n",
    "$ 55 = 34 + 21 $\n",
    "\n",
    "$ 34 = 21 + 13 ... etc  $\n"
   ]
  },
  {
   "cell_type": "markdown",
   "id": "3ee9dd1b",
   "metadata": {},
   "source": [
    "Si te das cuenta, esto lo podemos programar de forma recursiva:"
   ]
  },
  {
   "cell_type": "code",
   "execution_count": 9,
   "id": "1eb5b77c",
   "metadata": {},
   "outputs": [],
   "source": [
    "def fib(n):\n",
    "    if n == 0:\n",
    "        return 0\n",
    "    elif n == 1:\n",
    "        return 1\n",
    "    else:\n",
    "        return fib(n-1) + fib(n-2)"
   ]
  },
  {
   "cell_type": "code",
   "execution_count": 10,
   "id": "9a9c6b5d",
   "metadata": {},
   "outputs": [
    {
     "data": {
      "text/plain": [
       "55"
      ]
     },
     "execution_count": 10,
     "metadata": {},
     "output_type": "execute_result"
    }
   ],
   "source": [
    "fib(10)"
   ]
  },
  {
   "cell_type": "code",
   "execution_count": 11,
   "id": "cec969fc",
   "metadata": {},
   "outputs": [
    {
     "data": {
      "text/plain": [
       "34"
      ]
     },
     "execution_count": 11,
     "metadata": {},
     "output_type": "execute_result"
    }
   ],
   "source": [
    "fib(9)"
   ]
  },
  {
   "cell_type": "code",
   "execution_count": 12,
   "id": "cd587d7e",
   "metadata": {},
   "outputs": [
    {
     "data": {
      "text/plain": [
       "8"
      ]
     },
     "execution_count": 12,
     "metadata": {},
     "output_type": "execute_result"
    }
   ],
   "source": [
    "fib(6)"
   ]
  },
  {
   "cell_type": "markdown",
   "id": "905bdf2d",
   "metadata": {},
   "source": [
    "Aunque también podríamos hacerlo de forma iterativa:"
   ]
  },
  {
   "cell_type": "code",
   "execution_count": 13,
   "id": "bffc0612",
   "metadata": {},
   "outputs": [],
   "source": [
    "def fib_iter(n):\n",
    "    anterior = 0\n",
    "    nuevo = 1\n",
    "    if n == 0:\n",
    "        return 0\n",
    "    for i in range(n-1):\n",
    "        anterior, nuevo = nuevo, anterior + nuevo\n",
    "    return nuevo"
   ]
  },
  {
   "cell_type": "code",
   "execution_count": 14,
   "id": "30502f05",
   "metadata": {},
   "outputs": [
    {
     "data": {
      "text/plain": [
       "55"
      ]
     },
     "execution_count": 14,
     "metadata": {},
     "output_type": "execute_result"
    }
   ],
   "source": [
    "fib_iter(10)"
   ]
  },
  {
   "cell_type": "code",
   "execution_count": 15,
   "id": "c373fb21",
   "metadata": {},
   "outputs": [
    {
     "data": {
      "text/plain": [
       "55"
      ]
     },
     "execution_count": 15,
     "metadata": {},
     "output_type": "execute_result"
    }
   ],
   "source": [
    "fib_iter(10)"
   ]
  },
  {
   "cell_type": "code",
   "execution_count": 16,
   "id": "9c558968",
   "metadata": {},
   "outputs": [
    {
     "data": {
      "text/plain": [
       "34"
      ]
     },
     "execution_count": 16,
     "metadata": {},
     "output_type": "execute_result"
    }
   ],
   "source": [
    "fib_iter(9)"
   ]
  },
  {
   "cell_type": "code",
   "execution_count": 17,
   "id": "7bd9bfb7",
   "metadata": {},
   "outputs": [
    {
     "data": {
      "text/plain": [
       "8"
      ]
     },
     "execution_count": 17,
     "metadata": {},
     "output_type": "execute_result"
    }
   ],
   "source": [
    "fib_iter(6)"
   ]
  },
  {
   "cell_type": "markdown",
   "id": "17104ea7",
   "metadata": {},
   "source": [
    "Si te das cuenta, es un poco más difícil de implementar. En cada paso, necesito actualizar tanto los valores anteriores como el nuevo. El nuevo, será la suma de el anterior (que se convertirá en el nuevo) y el ante-anterior (que se convertirá en el anterior).\n",
    "\n",
    "Si no entendiste ese párrafo, ahora ves la complicación de resolver algunos problemas de forma _iterativa_.\n",
    "\n",
    "Ahora, recuerda que un recurso valiosísimo es nuestro tiempo. ¿Qué versión de la función será más rápida?"
   ]
  },
  {
   "cell_type": "code",
   "execution_count": 18,
   "id": "ccf5d690",
   "metadata": {},
   "outputs": [],
   "source": [
    "import time  # Me ayudará a medir el tiempo."
   ]
  },
  {
   "cell_type": "code",
   "execution_count": 19,
   "id": "e947ef92",
   "metadata": {},
   "outputs": [
    {
     "name": "stdout",
     "output_type": "stream",
     "text": [
      "14930352\n",
      "El tiempo de la versión recursiva es de:  4.721236944198608  segundos\n"
     ]
    }
   ],
   "source": [
    "start = time.time()\n",
    "print(fib(36))\n",
    "end = time.time()\n",
    "\n",
    "print(\"El tiempo de la versión recursiva es de: \", end-start, \" segundos\")"
   ]
  },
  {
   "cell_type": "code",
   "execution_count": 20,
   "id": "604c1197",
   "metadata": {},
   "outputs": [
    {
     "name": "stdout",
     "output_type": "stream",
     "text": [
      "14930352\n",
      "El tiempo de la versión recursiva es de:  0.00045371055603027344  segundos\n"
     ]
    }
   ],
   "source": [
    "start = time.time()\n",
    "print(fib_iter(36))\n",
    "end = time.time()\n",
    "\n",
    "print(\"El tiempo de la versión recursiva es de: \", end-start, \" segundos\")"
   ]
  },
  {
   "cell_type": "markdown",
   "id": "4080e0d3",
   "metadata": {},
   "source": [
    "¡Muchísimo más tiempo! Y eso que sólo llegamos hasta el 36. Entre más grande sea el número, mucho mayor será la diferencia. ¿Por qué pasa eso?\n",
    "\n",
    "Si recuerdas, la versión recursiva se veía así:\n",
    "\n",
    "```\n",
    "def fib(n):\n",
    "    if n == 0:\n",
    "        return 0\n",
    "    elif n == 1:\n",
    "        return 1\n",
    "    else:\n",
    "        return fib(n-1) + fib(n-2)\n",
    "````"
   ]
  },
  {
   "cell_type": "markdown",
   "id": "f19267cb",
   "metadata": {},
   "source": [
    "En cada paso, calculamos hacemos el cálculo para los dos valores anteriores...que a su vez, calculan para los dos valores anteriores...etc.\n",
    "\n",
    "Entonces, como vuelvo a calcular una y otra vez, el proceso se tarda mucho más."
   ]
  },
  {
   "cell_type": "markdown",
   "id": "3d77e51a",
   "metadata": {},
   "source": [
    "![Image](https://python-course.eu/images/advanced-python/fib_calculation_tree.webp)"
   ]
  },
  {
   "cell_type": "markdown",
   "id": "6f4630ed",
   "metadata": {},
   "source": [
    "¿Cómo resolverlo?\n",
    "\n",
    "¿Qué tal que guardo los valores previos, que ya calculé? Sólo necesito definir cómo los guardaré...y aquí es donde se vuelven útiles las estructuras de datos, como los diccionarios."
   ]
  },
  {
   "cell_type": "code",
   "execution_count": 27,
   "id": "b3c34287",
   "metadata": {},
   "outputs": [],
   "source": [
    "memoria = {0:0, 1:1}\n",
    "def fibm(n):\n",
    "    if not n in memoria:\n",
    "        memoria[n] = fibm(n-1) + fibm(n-2)\n",
    "    return memoria[n]"
   ]
  },
  {
   "cell_type": "markdown",
   "id": "9b50865b",
   "metadata": {},
   "source": [
    "Y así, para calcular los primeros 10000 números de la secuencia de Fibonacci, veamos cuál versión es la más rápida."
   ]
  },
  {
   "cell_type": "code",
   "execution_count": 32,
   "id": "dce3460c",
   "metadata": {},
   "outputs": [
    {
     "name": "stdout",
     "output_type": "stream",
     "text": [
      "Iterativa:\n",
      "Tiempo:  6.557555913925171  segundos\n"
     ]
    }
   ],
   "source": [
    "n = 10000\n",
    "\n",
    "print(\"Iterativa:\")\n",
    "start = time.time()\n",
    "for i in range(n):\n",
    "    fib_iter(i)\n",
    "    \n",
    "end = time.time()\n",
    "print(\"Tiempo: \", end-start, \" segundos\")"
   ]
  },
  {
   "cell_type": "code",
   "execution_count": 33,
   "id": "a0ac51cc",
   "metadata": {},
   "outputs": [
    {
     "name": "stdout",
     "output_type": "stream",
     "text": [
      "Recursiva:\n",
      "Tiempo:  0.009830951690673828  segundos\n"
     ]
    }
   ],
   "source": [
    "print(\"Recursiva:\")\n",
    "start = time.time()\n",
    "for i in range(n):\n",
    "    fibm(i)\n",
    "    \n",
    "end = time.time()\n",
    "print(\"Tiempo: \", end-start, \" segundos\")"
   ]
  },
  {
   "cell_type": "markdown",
   "id": "18fa9be4",
   "metadata": {},
   "source": [
    "Además de que la versión recursiva se hará más rápida a medida que la use, puesto que cada vez tendré más valores calculados."
   ]
  },
  {
   "cell_type": "code",
   "execution_count": null,
   "id": "c257082b",
   "metadata": {},
   "outputs": [],
   "source": []
  }
 ],
 "metadata": {
  "kernelspec": {
   "display_name": "Python 3 (ipykernel)",
   "language": "python",
   "name": "python3"
  },
  "language_info": {
   "codemirror_mode": {
    "name": "ipython",
    "version": 3
   },
   "file_extension": ".py",
   "mimetype": "text/x-python",
   "name": "python",
   "nbconvert_exporter": "python",
   "pygments_lexer": "ipython3",
   "version": "3.7.12"
  }
 },
 "nbformat": 4,
 "nbformat_minor": 5
}
