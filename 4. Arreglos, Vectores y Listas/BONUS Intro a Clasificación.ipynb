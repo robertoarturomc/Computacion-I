{
 "cells": [
  {
   "cell_type": "markdown",
   "metadata": {},
   "source": [
    "# Bonus: Intro a Clasificación\n",
    "\n",
    "En Modelado Estadístico (y Computación), existe una rama bastante amplia llamada aprendizaje automático (o aprendizaje de Máquina). La idea es enseñarle a la computadora a hacer tareas que los seres humanos podemos hacer, pero que ella lo haga más rápido y hasta más eficiente. ¿Qué tipo de tareas? Principalmente, predicciones.\n",
    "\n",
    "El ejemplo más sencillo es la clasificación. Se trata de, basarnos en experiencia previa, adivinar a qué categoría pertenece un objeto, persona, etc. Por ejemplo:\n",
    "\n",
    "La Persona a la cuál le pretendo prestar dinero, ¿Pagará a tiempo o no pagará?\n",
    "El virus que aparece en esta prueba PCR, ¿es o no Covid-19?\n",
    "El coche autónomo, ¿deberá frenar o no al ir en la carretera?\n",
    "¿Qué categoría de imágenes te debo mostrar en Instagram para que estés más tiempo en el app?\n",
    "\n",
    "Para resolver esos problemas, existe una infinidad de _algoritmos_. Hoy veremos un ejemplo sencillo."
   ]
  },
  {
   "cell_type": "code",
   "execution_count": 11,
   "metadata": {},
   "outputs": [],
   "source": [
    "import numpy as np\n",
    "\n",
    "# Matplotlib nos ayudará a graficar\n",
    "import matplotlib.pyplot as plt\n",
    "\n",
    "# sklearn nos ayudará a modelar.\n",
    "from sklearn import datasets"
   ]
  },
  {
   "cell_type": "markdown",
   "metadata": {},
   "source": [
    "Vamos a cargar un set de datos. A ver si puedes reconocer qué estructura es:"
   ]
  },
  {
   "cell_type": "code",
   "execution_count": 2,
   "metadata": {},
   "outputs": [
    {
     "data": {
      "text/plain": [
       "{'data': array([[ 0.,  0.,  5., ...,  0.,  0.,  0.],\n",
       "        [ 0.,  0.,  0., ..., 10.,  0.,  0.],\n",
       "        [ 0.,  0.,  0., ..., 16.,  9.,  0.],\n",
       "        ...,\n",
       "        [ 0.,  0.,  1., ...,  6.,  0.,  0.],\n",
       "        [ 0.,  0.,  2., ..., 12.,  0.,  0.],\n",
       "        [ 0.,  0., 10., ..., 12.,  1.,  0.]]),\n",
       " 'target': array([0, 1, 2, ..., 8, 9, 8]),\n",
       " 'target_names': array([0, 1, 2, 3, 4, 5, 6, 7, 8, 9]),\n",
       " 'images': array([[[ 0.,  0.,  5., ...,  1.,  0.,  0.],\n",
       "         [ 0.,  0., 13., ..., 15.,  5.,  0.],\n",
       "         [ 0.,  3., 15., ..., 11.,  8.,  0.],\n",
       "         ...,\n",
       "         [ 0.,  4., 11., ..., 12.,  7.,  0.],\n",
       "         [ 0.,  2., 14., ..., 12.,  0.,  0.],\n",
       "         [ 0.,  0.,  6., ...,  0.,  0.,  0.]],\n",
       " \n",
       "        [[ 0.,  0.,  0., ...,  5.,  0.,  0.],\n",
       "         [ 0.,  0.,  0., ...,  9.,  0.,  0.],\n",
       "         [ 0.,  0.,  3., ...,  6.,  0.,  0.],\n",
       "         ...,\n",
       "         [ 0.,  0.,  1., ...,  6.,  0.,  0.],\n",
       "         [ 0.,  0.,  1., ...,  6.,  0.,  0.],\n",
       "         [ 0.,  0.,  0., ..., 10.,  0.,  0.]],\n",
       " \n",
       "        [[ 0.,  0.,  0., ..., 12.,  0.,  0.],\n",
       "         [ 0.,  0.,  3., ..., 14.,  0.,  0.],\n",
       "         [ 0.,  0.,  8., ..., 16.,  0.,  0.],\n",
       "         ...,\n",
       "         [ 0.,  9., 16., ...,  0.,  0.,  0.],\n",
       "         [ 0.,  3., 13., ..., 11.,  5.,  0.],\n",
       "         [ 0.,  0.,  0., ..., 16.,  9.,  0.]],\n",
       " \n",
       "        ...,\n",
       " \n",
       "        [[ 0.,  0.,  1., ...,  1.,  0.,  0.],\n",
       "         [ 0.,  0., 13., ...,  2.,  1.,  0.],\n",
       "         [ 0.,  0., 16., ..., 16.,  5.,  0.],\n",
       "         ...,\n",
       "         [ 0.,  0., 16., ..., 15.,  0.,  0.],\n",
       "         [ 0.,  0., 15., ..., 16.,  0.,  0.],\n",
       "         [ 0.,  0.,  2., ...,  6.,  0.,  0.]],\n",
       " \n",
       "        [[ 0.,  0.,  2., ...,  0.,  0.,  0.],\n",
       "         [ 0.,  0., 14., ..., 15.,  1.,  0.],\n",
       "         [ 0.,  4., 16., ..., 16.,  7.,  0.],\n",
       "         ...,\n",
       "         [ 0.,  0.,  0., ..., 16.,  2.,  0.],\n",
       "         [ 0.,  0.,  4., ..., 16.,  2.,  0.],\n",
       "         [ 0.,  0.,  5., ..., 12.,  0.,  0.]],\n",
       " \n",
       "        [[ 0.,  0., 10., ...,  1.,  0.,  0.],\n",
       "         [ 0.,  2., 16., ...,  1.,  0.,  0.],\n",
       "         [ 0.,  0., 15., ..., 15.,  0.,  0.],\n",
       "         ...,\n",
       "         [ 0.,  4., 16., ..., 16.,  6.,  0.],\n",
       "         [ 0.,  8., 16., ..., 16.,  8.,  0.],\n",
       "         [ 0.,  1.,  8., ..., 12.,  1.,  0.]]]),\n",
       " 'DESCR': \".. _digits_dataset:\\n\\nOptical recognition of handwritten digits dataset\\n--------------------------------------------------\\n\\n**Data Set Characteristics:**\\n\\n    :Number of Instances: 5620\\n    :Number of Attributes: 64\\n    :Attribute Information: 8x8 image of integer pixels in the range 0..16.\\n    :Missing Attribute Values: None\\n    :Creator: E. Alpaydin (alpaydin '@' boun.edu.tr)\\n    :Date: July; 1998\\n\\nThis is a copy of the test set of the UCI ML hand-written digits datasets\\nhttp://archive.ics.uci.edu/ml/datasets/Optical+Recognition+of+Handwritten+Digits\\n\\nThe data set contains images of hand-written digits: 10 classes where\\neach class refers to a digit.\\n\\nPreprocessing programs made available by NIST were used to extract\\nnormalized bitmaps of handwritten digits from a preprinted form. From a\\ntotal of 43 people, 30 contributed to the training set and different 13\\nto the test set. 32x32 bitmaps are divided into nonoverlapping blocks of\\n4x4 and the number of on pixels are counted in each block. This generates\\nan input matrix of 8x8 where each element is an integer in the range\\n0..16. This reduces dimensionality and gives invariance to small\\ndistortions.\\n\\nFor info on NIST preprocessing routines, see M. D. Garris, J. L. Blue, G.\\nT. Candela, D. L. Dimmick, J. Geist, P. J. Grother, S. A. Janet, and C.\\nL. Wilson, NIST Form-Based Handprint Recognition System, NISTIR 5469,\\n1994.\\n\\n.. topic:: References\\n\\n  - C. Kaynak (1995) Methods of Combining Multiple Classifiers and Their\\n    Applications to Handwritten Digit Recognition, MSc Thesis, Institute of\\n    Graduate Studies in Science and Engineering, Bogazici University.\\n  - E. Alpaydin, C. Kaynak (1998) Cascading Classifiers, Kybernetika.\\n  - Ken Tang and Ponnuthurai N. Suganthan and Xi Yao and A. Kai Qin.\\n    Linear dimensionalityreduction using relevance weighted LDA. School of\\n    Electrical and Electronic Engineering Nanyang Technological University.\\n    2005.\\n  - Claudio Gentile. A New Approximate Maximal Margin Classification\\n    Algorithm. NIPS. 2000.\"}"
      ]
     },
     "execution_count": 2,
     "metadata": {},
     "output_type": "execute_result"
    }
   ],
   "source": [
    "digits = datasets.load_digits()\n",
    "digits"
   ]
  },
  {
   "cell_type": "markdown",
   "metadata": {},
   "source": [
    "¡Es un Diccionario! Bueno, para ser más exactos, es un diccionario de arreglos - un diccionario que, dentro, tiene varios arreglos de NumPy.\n",
    "\n",
    "Lo bueno es que ya sabemos trabajar con diccionarios, ¿no? Te adelanto: estaremos trabajando principalmente con _data_ y _target_.\n",
    "\n",
    "Primer gran tip: siempre que trabajemos con un nuevo set de datos, hay que dedicarle un rato a conocerlo bien."
   ]
  },
  {
   "cell_type": "code",
   "execution_count": 13,
   "metadata": {},
   "outputs": [
    {
     "data": {
      "text/plain": [
       "array([[ 0.,  0.,  5., ...,  0.,  0.,  0.],\n",
       "       [ 0.,  0.,  0., ..., 10.,  0.,  0.],\n",
       "       [ 0.,  0.,  0., ..., 16.,  9.,  0.],\n",
       "       ...,\n",
       "       [ 0.,  0.,  1., ...,  6.,  0.,  0.],\n",
       "       [ 0.,  0.,  2., ..., 12.,  0.,  0.],\n",
       "       [ 0.,  0., 10., ..., 12.,  1.,  0.]])"
      ]
     },
     "execution_count": 13,
     "metadata": {},
     "output_type": "execute_result"
    }
   ],
   "source": [
    "digits[\"data\"]"
   ]
  },
  {
   "cell_type": "markdown",
   "metadata": {},
   "source": [
    "¡Muchísimas filas y columnas! Tantas, que mi Cuaderno me las corta para sólo mostrarme las primeras y las últimas hileras y columnas. ¿Habrá una forma de ver la _forma_ de mi arreglo?"
   ]
  },
  {
   "cell_type": "code",
   "execution_count": 14,
   "metadata": {},
   "outputs": [
    {
     "data": {
      "text/plain": [
       "(1797, 64)"
      ]
     },
     "execution_count": 14,
     "metadata": {},
     "output_type": "execute_result"
    }
   ],
   "source": [
    "digits[\"data\"].shape"
   ]
  },
  {
   "cell_type": "markdown",
   "metadata": {},
   "source": [
    "Ok, vamos bien. Es una matriz de 1797 renglones y 64 columnas.\n",
    "\n",
    "Por cierto, en mi previsualización de los datos veo que tengo números entre el 0 y el 16. ¿Será cierto que esos son los límites?"
   ]
  },
  {
   "cell_type": "code",
   "execution_count": 17,
   "metadata": {},
   "outputs": [
    {
     "data": {
      "text/plain": [
       "0.0"
      ]
     },
     "execution_count": 17,
     "metadata": {},
     "output_type": "execute_result"
    }
   ],
   "source": [
    "np.min(digits[\"data\"])"
   ]
  },
  {
   "cell_type": "code",
   "execution_count": 15,
   "metadata": {},
   "outputs": [
    {
     "data": {
      "text/plain": [
       "16.0"
      ]
     },
     "execution_count": 15,
     "metadata": {},
     "output_type": "execute_result"
    }
   ],
   "source": [
    "np.max(digits[\"data\"])"
   ]
  },
  {
   "cell_type": "markdown",
   "metadata": {},
   "source": [
    "Bien, bien. Tengo 1797 datos, cada uno con 64 columnas de información...y cada dato va entre el 0 y el 16. Sin embargo, sigo sin entender cómo lucen esos datos.\n",
    "\n",
    "Segundo gran tip: siempre que puedas, grafíca tus datos. Lástima que ese es tema de Computación II...\n",
    "    \n",
    "Ahorita no prestes tanta atención al código. Observa con detenimiento y trata de adivinar qué representan esos dibujos extraños."
   ]
  },
  {
   "cell_type": "code",
   "execution_count": 3,
   "metadata": {},
   "outputs": [
    {
     "data": {
      "image/png": "[encoded data removed]",
      "text/plain": [
       "<Figure size 216x216 with 1 Axes>"
      ]
     },
     "metadata": {
      "needs_background": "light"
     },
     "output_type": "display_data"
    }
   ],
   "source": [
    "plt.figure(1, figsize=(3, 3))\n",
    "plt.imshow(digits.images[-1], cmap=plt.cm.gray_r, interpolation=\"nearest\")\n",
    "plt.show()"
   ]
  },
  {
   "cell_type": "code",
   "execution_count": 21,
   "metadata": {},
   "outputs": [
    {
     "data": {
      "image/png": "[encoded data removed]",
      "text/plain": [
       "<Figure size 216x216 with 1 Axes>"
      ]
     },
     "metadata": {
      "needs_background": "light"
     },
     "output_type": "display_data"
    }
   ],
   "source": [
    "plt.figure(1, figsize=(3, 3))\n",
    "plt.imshow(digits.images[-2], cmap=plt.cm.gray_r, interpolation=\"nearest\")\n",
    "plt.show()"
   ]
  },
  {
   "cell_type": "code",
   "execution_count": 23,
   "metadata": {},
   "outputs": [
    {
     "data": {
      "image/png": "[encoded data removed]",
      "text/plain": [
       "<Figure size 216x216 with 1 Axes>"
      ]
     },
     "metadata": {
      "needs_background": "light"
     },
     "output_type": "display_data"
    }
   ],
   "source": [
    "plt.figure(1, figsize=(3, 3))\n",
    "plt.imshow(digits.images[-5], cmap=plt.cm.gray_r, interpolation=\"nearest\")\n",
    "plt.show()"
   ]
  },
  {
   "cell_type": "markdown",
   "metadata": {},
   "source": [
    "¡Exacto! Son imágenes de los dígitos (0, 1, 2...9), de muy baja calidad. Por eso tengo 64 columnas...cada una representa un pixel (o un _cuadrito_) de la imagen. Son imágenes de 8x8 pixeles (o sea, 64 en total...)\n",
    "\n",
    "¿Y esos números entre 0 y 16 que estaban en mi matriz? Bueno, un 0 significa que el punto es blanco, un 16 que es negro, y los valores intermedios, tonos de grises.\n",
    "\n",
    "Para trabajar hoy, tengo 1797 dibujos de dígitos."
   ]
  },
  {
   "cell_type": "code",
   "execution_count": 33,
   "metadata": {},
   "outputs": [
    {
     "data": {
      "text/plain": [
       "array([0, 1, 2, ..., 8, 9, 8])"
      ]
     },
     "execution_count": 33,
     "metadata": {},
     "output_type": "execute_result"
    }
   ],
   "source": [
    "objetivos = digits[\"target\"]\n",
    "objetivos"
   ]
  },
  {
   "cell_type": "markdown",
   "metadata": {},
   "source": [
    "En _target_ tengo contenidos los dígitos reales. Por eso se llama _target_: es mi objetivo, lo que quiero predecir. Además, puedo confirmar que, en efecto, son 1797 objetivos (uno por cada dibujo)."
   ]
  },
  {
   "cell_type": "code",
   "execution_count": 34,
   "metadata": {},
   "outputs": [
    {
     "data": {
      "text/plain": [
       "1797"
      ]
     },
     "execution_count": 34,
     "metadata": {},
     "output_type": "execute_result"
    }
   ],
   "source": [
    "len(objetivos)"
   ]
  },
  {
   "cell_type": "markdown",
   "metadata": {},
   "source": [
    "Para no complicarme la vida, vamos a filtrar algunos datos, para quedarnos sólo con los 0 y 1. \n",
    "\n",
    "Hasta el momento, sólo sabía filtrar arreglos de Numpy por índices. ¿Recuerdas esto?"
   ]
  },
  {
   "cell_type": "code",
   "execution_count": 35,
   "metadata": {},
   "outputs": [
    {
     "data": {
      "text/plain": [
       "array([2, 3, 4, 5, 6, 7, 8, 9, 0, 1, 2, 3, 4, 5, 6, 7, 8, 9])"
      ]
     },
     "execution_count": 35,
     "metadata": {},
     "output_type": "execute_result"
    }
   ],
   "source": [
    "digits[\"target\"][2:20]"
   ]
  },
  {
   "cell_type": "markdown",
   "metadata": {},
   "source": [
    "Aquí, estoy agarrando sólo una fracción continua de los valores (funciona igual con listas y tuplas). \n",
    "\n",
    "Pero, ¿qué crees? Con NumPy, también puedo filtrar según alguna regla. ¿Qué tipo de regla? La más fácil: los operadores lógicos."
   ]
  },
  {
   "cell_type": "code",
   "execution_count": 36,
   "metadata": {},
   "outputs": [
    {
     "data": {
      "text/plain": [
       "array([False, False, False, ...,  True,  True,  True])"
      ]
     },
     "execution_count": 36,
     "metadata": {},
     "output_type": "execute_result"
    }
   ],
   "source": [
    "objetivos > 5"
   ]
  },
  {
   "cell_type": "code",
   "execution_count": 37,
   "metadata": {},
   "outputs": [
    {
     "data": {
      "text/plain": [
       "array([ True, False,  True, ...,  True,  True,  True])"
      ]
     },
     "execution_count": 37,
     "metadata": {},
     "output_type": "execute_result"
    }
   ],
   "source": [
    "objetivos != 1"
   ]
  },
  {
   "cell_type": "code",
   "execution_count": 38,
   "metadata": {},
   "outputs": [
    {
     "data": {
      "text/plain": [
       "array([ True,  True,  True, ..., False, False, False])"
      ]
     },
     "execution_count": 38,
     "metadata": {},
     "output_type": "execute_result"
    }
   ],
   "source": [
    "objetivos <= 3"
   ]
  },
  {
   "cell_type": "markdown",
   "metadata": {},
   "source": [
    "Etc etc. Cualquiera de ellos me dará un arreglo de puros valores True y False. \n",
    "\n",
    "Si meto esos dentro de corchetes, y los uso para filtrar mi arreglo original, me quedaré sólo con los que cumplen la regla."
   ]
  },
  {
   "cell_type": "code",
   "execution_count": 39,
   "metadata": {},
   "outputs": [
    {
     "data": {
      "text/plain": [
       "array([0, 0, 0, 0, 0, 0, 0, 0, 0, 0, 0, 0, 0, 0, 0, 0, 0, 0, 0, 0, 0, 0,\n",
       "       0, 0, 0, 0, 0, 0, 0, 0, 0, 0, 0, 0, 0, 0, 0, 0, 0, 0, 0, 0, 0, 0,\n",
       "       0, 0, 0, 0, 0, 0, 0, 0, 0, 0, 0, 0, 0, 0, 0, 0, 0, 0, 0, 0, 0, 0,\n",
       "       0, 0, 0, 0, 0, 0, 0, 0, 0, 0, 0, 0, 0, 0, 0, 0, 0, 0, 0, 0, 0, 0,\n",
       "       0, 0, 0, 0, 0, 0, 0, 0, 0, 0, 0, 0, 0, 0, 0, 0, 0, 0, 0, 0, 0, 0,\n",
       "       0, 0, 0, 0, 0, 0, 0, 0, 0, 0, 0, 0, 0, 0, 0, 0, 0, 0, 0, 0, 0, 0,\n",
       "       0, 0, 0, 0, 0, 0, 0, 0, 0, 0, 0, 0, 0, 0, 0, 0, 0, 0, 0, 0, 0, 0,\n",
       "       0, 0, 0, 0, 0, 0, 0, 0, 0, 0, 0, 0, 0, 0, 0, 0, 0, 0, 0, 0, 0, 0,\n",
       "       0, 0])"
      ]
     },
     "execution_count": 39,
     "metadata": {},
     "output_type": "execute_result"
    }
   ],
   "source": [
    "digits[\"target\"][objetivos == 0]"
   ]
  },
  {
   "cell_type": "markdown",
   "metadata": {},
   "source": [
    "Y también puedo hacer filtros más complejos. ¿Recuerdas cuando veíamos Lógica? Ocupábamos operaciones como __Y, O, NO__, etc."
   ]
  },
  {
   "cell_type": "code",
   "execution_count": 44,
   "metadata": {},
   "outputs": [
    {
     "data": {
      "text/plain": [
       "array([0, 1, 2, ..., 0, 8, 8])"
      ]
     },
     "execution_count": 44,
     "metadata": {},
     "output_type": "execute_result"
    }
   ],
   "source": [
    "objetivos[~(objetivos == 9) ]"
   ]
  },
  {
   "cell_type": "code",
   "execution_count": 48,
   "metadata": {},
   "outputs": [
    {
     "data": {
      "text/plain": [
       "array([6, 8, 6, 8, 6, 8, 6, 8, 8, 8, 6, 6, 6, 6, 8, 6, 6, 6, 8, 6, 6, 8,\n",
       "       8, 8, 8, 8, 6, 8, 6, 8, 6, 8, 6, 8, 8, 8, 6, 6, 6, 6, 8, 6, 6, 8,\n",
       "       6, 6, 8, 8, 8, 8, 8, 6, 8, 6, 8, 6, 8, 6, 8, 8, 8, 6, 6, 6, 6, 8,\n",
       "       6, 6, 6, 8, 6, 6, 8, 8, 8, 8, 6, 8, 6, 8, 6, 8, 6, 8, 8, 8, 6, 6,\n",
       "       6, 6, 8, 6, 6, 6, 8, 6, 6, 8, 8, 8, 8, 8, 6, 8, 6, 8, 6, 8, 6, 8,\n",
       "       8, 8, 6, 6, 6, 6, 8, 6, 6, 6, 8, 6, 6, 8, 8, 8, 8, 8, 6, 8, 6, 8,\n",
       "       6, 8, 6, 8, 8, 8, 6, 6, 6, 6, 8, 6, 6, 6, 8, 6, 6, 8, 8, 8, 8, 8,\n",
       "       6, 8, 6, 8, 6, 8, 6, 8, 8, 8, 6, 6, 6, 6, 8, 6, 6, 6, 8, 6, 6, 8,\n",
       "       8, 8, 8, 8, 6, 8, 6, 8, 6, 8, 6, 8, 8, 8, 6, 6, 6, 6, 8, 6, 6, 6,\n",
       "       8, 6, 6, 8, 8, 8, 6, 8, 6, 8, 6, 8, 6, 8, 8, 8, 6, 6, 6, 6, 8, 6,\n",
       "       6, 6, 8, 6, 6, 8, 8, 8, 8, 8, 6, 8, 6, 8, 6, 8, 6, 8, 8, 8, 6, 6,\n",
       "       6, 6, 8, 6, 6, 6, 8, 6, 6, 8, 8, 8, 8, 8, 6, 8, 6, 8, 6, 8, 6, 8,\n",
       "       8, 8, 6, 6, 6, 6, 8, 6, 6, 6, 8, 6, 6, 8, 8, 8, 8, 6, 8, 6, 8, 6,\n",
       "       8, 6, 8, 8, 8, 6, 6, 6, 6, 8, 6, 6, 6, 8, 6, 6, 8, 8, 8, 8, 8, 6,\n",
       "       8, 6, 6, 8, 6, 8, 8, 8, 6, 6, 6, 6, 8, 6, 6, 6, 8, 6, 6, 8, 8, 6,\n",
       "       8, 6, 8, 6, 8, 6, 8, 8, 8, 6, 6, 6, 6, 8, 6, 6, 6, 8, 6, 6, 8, 8,\n",
       "       8, 8, 8])"
      ]
     },
     "execution_count": 48,
     "metadata": {},
     "output_type": "execute_result"
    }
   ],
   "source": [
    "objetivos[(objetivos % 2 == 0) & (objetivos > 5) ]"
   ]
  },
  {
   "cell_type": "code",
   "execution_count": 45,
   "metadata": {},
   "outputs": [
    {
     "data": {
      "text/plain": [
       "array([0, 1, 0, 1, 0, 1, 0, 0, 1, 1, 0, 0, 0, 1, 1, 0, 0, 0, 1, 1, 1, 1,\n",
       "       1, 0, 1, 0, 0, 1, 0, 1, 0, 1, 0, 0, 1, 1, 0, 0, 0, 1, 1, 0, 0, 0,\n",
       "       1, 1, 1, 1, 1, 0, 1, 0, 0, 1, 0, 1, 0, 1, 0, 0, 1, 1, 0, 0, 0, 1,\n",
       "       1, 0, 0, 0, 1, 1, 1, 1, 1, 0, 1, 0, 0, 1, 0, 1, 0, 1, 0, 0, 1, 1,\n",
       "       0, 0, 0, 1, 1, 0, 0, 0, 1, 1, 1, 1, 1, 0, 1, 0, 0, 1, 0, 1, 0, 1,\n",
       "       0, 0, 1, 1, 0, 0, 0, 1, 1, 0, 0, 0, 1, 1, 1, 1, 1, 0, 1, 0, 0, 1,\n",
       "       0, 1, 0, 1, 0, 0, 1, 1, 0, 0, 0, 1, 1, 0, 0, 0, 1, 1, 1, 1, 1, 0,\n",
       "       1, 0, 0, 1, 0, 1, 0, 1, 0, 0, 1, 1, 0, 0, 0, 1, 1, 0, 0, 0, 1, 1,\n",
       "       1, 1, 1, 0, 1, 0, 1, 0, 1, 0, 1, 0, 0, 1, 1, 0, 1, 1, 0, 0, 0, 1,\n",
       "       1, 1, 1, 1, 0, 1, 0, 0, 1, 0, 1, 0, 1, 0, 0, 1, 1, 0, 0, 0, 1, 1,\n",
       "       0, 0, 0, 1, 1, 1, 1, 1, 0, 1, 0, 0, 1, 0, 1, 0, 1, 0, 0, 1, 1, 0,\n",
       "       0, 0, 1, 1, 0, 0, 0, 1, 1, 1, 1, 1, 0, 1, 0, 0, 1, 0, 1, 0, 1, 0,\n",
       "       0, 1, 1, 0, 0, 0, 1, 1, 0, 0, 0, 1, 1, 1, 1, 1, 0, 1, 0, 0, 1, 0,\n",
       "       1, 0, 1, 0, 0, 1, 1, 0, 0, 0, 1, 1, 0, 0, 0, 1, 1, 1, 1, 1, 0, 1,\n",
       "       0, 0, 1, 0, 1, 0, 1, 0, 0, 1, 1, 0, 0, 0, 1, 1, 0, 0, 1, 1, 1, 1,\n",
       "       1, 0, 1, 0, 0, 1, 0, 1, 0, 1, 0, 0, 1, 1, 0, 0, 0, 1, 1, 0, 0, 0,\n",
       "       1, 1, 1, 1, 1, 0, 1, 0])"
      ]
     },
     "execution_count": 45,
     "metadata": {},
     "output_type": "execute_result"
    }
   ],
   "source": [
    "objetivos[(objetivos == 0) | (objetivos == 1) ]"
   ]
  },
  {
   "cell_type": "markdown",
   "metadata": {},
   "source": [
    "¡Este último filtro es el que me interesa!\n",
    "\n",
    "Vamos, entonces, a crear un subconjunto de mis dibujos y de mis objetivos: sólo aquellos que sean 0s y 8s, que son más o menos parecidos."
   ]
  },
  {
   "cell_type": "code",
   "execution_count": 107,
   "metadata": {},
   "outputs": [
    {
     "data": {
      "text/plain": [
       "array([[ 0.,  0.,  7., ...,  9.,  0.,  0.],\n",
       "       [ 0.,  0.,  9., ..., 11.,  1.,  0.],\n",
       "       [ 0.,  2.,  9., ..., 11.,  0.,  0.],\n",
       "       ...,\n",
       "       [ 0.,  0.,  5., ...,  3.,  0.,  0.],\n",
       "       [ 0.,  0.,  1., ...,  6.,  0.,  0.],\n",
       "       [ 0.,  0., 10., ..., 12.,  1.,  0.]])"
      ]
     },
     "execution_count": 107,
     "metadata": {},
     "output_type": "execute_result"
    }
   ],
   "source": [
    "digitos = digits[\"data\"][(objetivos == 3) | (objetivos == 8) ]\n",
    "digitos"
   ]
  },
  {
   "cell_type": "code",
   "execution_count": 108,
   "metadata": {},
   "outputs": [
    {
     "data": {
      "text/plain": [
       "array([3, 8, 3, 8, 3, 8, 8, 8, 3, 8, 3, 3, 3, 3, 8, 3, 3, 3, 8, 3, 3, 8,\n",
       "       8, 8, 8, 8, 3, 8, 3, 8, 3, 8, 8, 8, 3, 8, 3, 3, 3, 3, 8, 3, 3, 3,\n",
       "       8, 3, 3, 8, 8, 8, 8, 8, 3, 8, 3, 8, 3, 8, 8, 8, 3, 8, 3, 3, 3, 3,\n",
       "       8, 3, 3, 3, 8, 3, 3, 8, 8, 8, 8, 3, 3, 8, 3, 8, 3, 8, 8, 8, 3, 8,\n",
       "       3, 3, 3, 3, 8, 3, 3, 3, 8, 3, 3, 8, 8, 8, 8, 8, 3, 8, 3, 8, 3, 8,\n",
       "       8, 8, 3, 8, 3, 3, 3, 3, 8, 3, 3, 3, 8, 3, 3, 8, 8, 8, 8, 8, 3, 8,\n",
       "       3, 8, 3, 8, 8, 8, 3, 8, 3, 3, 3, 3, 8, 3, 3, 3, 8, 3, 3, 8, 8, 8,\n",
       "       8, 8, 3, 8, 3, 8, 3, 8, 8, 8, 3, 8, 3, 3, 3, 3, 8, 3, 3, 3, 8, 3,\n",
       "       3, 8, 8, 8, 8, 8, 3, 8, 3, 8, 3, 8, 8, 8, 3, 8, 3, 3, 3, 3, 8, 3,\n",
       "       3, 3, 8, 3, 3, 8, 8, 8, 3, 8, 3, 8, 3, 8, 8, 8, 3, 8, 3, 3, 3, 3,\n",
       "       8, 3, 3, 3, 8, 3, 3, 8, 8, 8, 8, 8, 3, 8, 3, 8, 3, 8, 8, 8, 3, 8,\n",
       "       3, 3, 3, 3, 8, 3, 3, 3, 8, 3, 3, 8, 8, 8, 8, 8, 3, 8, 3, 8, 3, 8,\n",
       "       8, 8, 3, 8, 3, 3, 3, 3, 8, 3, 3, 3, 8, 3, 3, 8, 8, 8, 8, 3, 8, 3,\n",
       "       8, 3, 8, 8, 8, 3, 8, 3, 3, 3, 3, 8, 3, 3, 3, 8, 3, 3, 8, 8, 8, 8,\n",
       "       8, 3, 8, 3, 3, 8, 8, 8, 3, 8, 3, 3, 3, 3, 8, 3, 3, 3, 8, 3, 3, 8,\n",
       "       8, 3, 8, 3, 8, 3, 8, 8, 8, 3, 8, 3, 3, 3, 3, 8, 3, 3, 3, 8, 3, 3,\n",
       "       8, 8, 8, 8, 8])"
      ]
     },
     "execution_count": 108,
     "metadata": {},
     "output_type": "execute_result"
    }
   ],
   "source": [
    "objetivos_01 = objetivos[(objetivos == 3) | (objetivos == 8) ]\n",
    "objetivos_01"
   ]
  },
  {
   "cell_type": "markdown",
   "metadata": {},
   "source": [
    "La idea es crear un modelo que prediga lo más correctamente posible, qué dibujos son 0s y cuáles son 1s. Para eso, existen varios algoritmos, muchos de los cuáles son \"cajas negras\"; es decir, las reglas para tomar esa decisión son tan complejas que son difíciles de entender para un ser humano. Eso no le quita que podamos (y debamos intentarlo); entre mejor conozcamos los algoritmos, mejor podremos ajustarlos.\n",
    "\n",
    "Vamos a usar un algoritmo sencillo, del cuál después podrás leer: Máquina de Soporte Vectorial (SVM)"
   ]
  },
  {
   "cell_type": "code",
   "execution_count": 109,
   "metadata": {},
   "outputs": [],
   "source": [
    "from sklearn import svm"
   ]
  },
  {
   "cell_type": "markdown",
   "metadata": {},
   "source": [
    "Para inicializar un algoritmo en Python, se especifican los parámetros que definen los ajustes que haremos."
   ]
  },
  {
   "cell_type": "code",
   "execution_count": 146,
   "metadata": {},
   "outputs": [],
   "source": [
    "clf = svm.SVC(gamma=0.01, C=10)\n",
    "\n",
    "# Esta parte se puede ajustar."
   ]
  },
  {
   "cell_type": "markdown",
   "metadata": {},
   "source": [
    "Luego, especificamos con qué datos vamos a entrenar. Lo ideal es separ nuestros datos, y usar algunos para entrenar, y otros para probar qué tan buen modelo se construyó. Así que separaremos nuestros datos."
   ]
  },
  {
   "cell_type": "code",
   "execution_count": 147,
   "metadata": {},
   "outputs": [],
   "source": [
    "train_digitos = digitos[0:200]\n",
    "test_digitos = digitos[200:]\n",
    "\n",
    "train_objetivos = objetivos_01[0:200]\n",
    "test_objetivos = objetivos_01[200:]\n"
   ]
  },
  {
   "cell_type": "code",
   "execution_count": 148,
   "metadata": {},
   "outputs": [
    {
     "data": {
      "text/plain": [
       "SVC(C=10, cache_size=200, class_weight=None, coef0=0.0,\n",
       "  decision_function_shape='ovr', degree=3, gamma=0.01, kernel='rbf',\n",
       "  max_iter=-1, probability=False, random_state=None, shrinking=True,\n",
       "  tol=0.001, verbose=False)"
      ]
     },
     "execution_count": 148,
     "metadata": {},
     "output_type": "execute_result"
    }
   ],
   "source": [
    "clf.fit(train_digitos, train_objetivos)"
   ]
  },
  {
   "cell_type": "markdown",
   "metadata": {},
   "source": [
    "Por cierto; el inicializar un modelo y el especificar los datos de entrenamiento se suele hacer en el mismo paso en R.\n",
    "\n",
    "A continuación, predecimos para ver qué aprendió la computadora. Por lo tanto, ahora no le especificamos el objetivo, para que la nos diga qué predice sobre los datos de prueba."
   ]
  },
  {
   "cell_type": "code",
   "execution_count": 149,
   "metadata": {},
   "outputs": [
    {
     "data": {
      "text/plain": [
       "array([8, 3, 3, 8, 8, 8, 3, 8, 3, 8, 3, 8, 8, 8, 3, 8, 3, 3, 3, 3, 8, 3,\n",
       "       3, 8, 8, 8, 8, 8, 8, 8, 8, 8, 3, 8, 3, 8, 8, 8, 8, 8, 8, 8, 8, 3,\n",
       "       3, 3, 8, 3, 3, 8, 8, 3, 3, 8, 8, 8, 8, 8, 3, 8, 3, 8, 3, 8, 8, 8,\n",
       "       3, 8, 3, 3, 3, 8, 8, 3, 3, 3, 8, 3, 3, 8, 8, 8, 8, 3, 8, 3, 8, 3,\n",
       "       8, 8, 8, 3, 8, 3, 3, 3, 3, 8, 3, 3, 3, 8, 3, 3, 8, 8, 8, 8, 8, 3,\n",
       "       8, 8, 3, 8, 8, 8, 8, 8, 8, 3, 8, 8, 8, 3, 3, 8, 8, 3, 3, 8, 8, 3,\n",
       "       8, 8, 8, 8, 8, 8, 8, 8, 8, 8, 8, 8, 8, 8, 8, 3, 3, 8, 8, 3, 8, 8,\n",
       "       8, 8, 8])"
      ]
     },
     "execution_count": 149,
     "metadata": {},
     "output_type": "execute_result"
    }
   ],
   "source": [
    "prediccion = clf.predict(test_digitos)\n",
    "prediccion"
   ]
  },
  {
   "cell_type": "markdown",
   "metadata": {},
   "source": [
    "¿Le habrá atinado a todos? Vamos a confirmar:"
   ]
  },
  {
   "cell_type": "code",
   "execution_count": 150,
   "metadata": {},
   "outputs": [
    {
     "data": {
      "text/plain": [
       "array([ True,  True,  True,  True,  True,  True,  True,  True,  True,\n",
       "        True,  True,  True,  True,  True,  True,  True,  True,  True,\n",
       "        True,  True,  True,  True,  True, False,  True, False, False,\n",
       "        True,  True,  True,  True,  True,  True,  True,  True,  True,\n",
       "       False,  True,  True,  True, False,  True, False,  True,  True,\n",
       "        True,  True,  True,  True, False,  True,  True,  True,  True,\n",
       "        True,  True,  True,  True,  True,  True,  True,  True,  True,\n",
       "        True,  True,  True,  True,  True,  True,  True,  True, False,\n",
       "        True,  True,  True,  True,  True,  True,  True,  True,  True,\n",
       "        True,  True,  True,  True,  True,  True,  True,  True,  True,\n",
       "        True,  True,  True,  True,  True,  True,  True,  True,  True,\n",
       "        True,  True,  True,  True,  True,  True,  True,  True,  True,\n",
       "        True,  True,  True, False,  True,  True,  True,  True, False,\n",
       "        True, False,  True, False, False,  True,  True,  True, False,\n",
       "        True,  True,  True,  True,  True,  True,  True, False,  True,\n",
       "       False,  True,  True,  True, False,  True, False, False, False,\n",
       "       False,  True, False,  True,  True,  True, False,  True,  True,\n",
       "        True,  True,  True,  True])"
      ]
     },
     "execution_count": 150,
     "metadata": {},
     "output_type": "execute_result"
    }
   ],
   "source": [
    "(test_objetivos == prediccion)"
   ]
  },
  {
   "cell_type": "markdown",
   "metadata": {},
   "source": [
    "¡Hay algunos falsos! Es decir, adivinó mal. ¿Qué tanto representa en porcentaje?"
   ]
  },
  {
   "cell_type": "code",
   "execution_count": 143,
   "metadata": {},
   "outputs": [
    {
     "data": {
      "text/plain": [
       "0.8535031847133758"
      ]
     },
     "execution_count": 143,
     "metadata": {},
     "output_type": "execute_result"
    }
   ],
   "source": [
    "(test_objetivos == prediccion).mean()"
   ]
  },
  {
   "cell_type": "markdown",
   "metadata": {},
   "source": [
    "¡Bastante alto! A esta métrica se le conoce como la efectividad (o _accuracy_)...aunque no es la única métrica importante al evaluar un modelo.\n",
    "\n",
    "### ¿Cómo se pueden mejorar esos modelos?\n",
    "\n",
    "* Consiguiendo más datos (Necesito saber computación...)\n",
    "\n",
    "* Limpiando mejor mis datos (Necesito saber álgebra lineal...)\n",
    "\n",
    "* Creando mejores variables (Necesito saber cálculo...)\n",
    "\n",
    "* Cambiando la forma de Evaluar (Si implica dinero, necesito saber Mates Financieras...)\n",
    "\n",
    "* Ajustando mejor mis algoritmos (Necesito saber Estadística...)\n",
    "\n",
    "\n",
    "Poco a poco adquirirás las herramientas para entender mejor estos temas. Lo importante es no desanimarse.\n",
    "\n",
    "Por cierto, una computadora, al no tener inteligencia propia, sólo puede probar ajustar modelos más o menos al azar (eso sí, millones y millones de forma rápida). Sin embargo, todavía hoy en día, un humano que entienda de estos temas es vital para obtener aún mejores resultados, y en menor tiempo."
   ]
  },
  {
   "cell_type": "markdown",
   "metadata": {},
   "source": [
    "¿Queda tiempo? Trata de ajustar la fórmula para ajustar el algoritmo...quizá, puedas tener puntos extra en tu Examen Final."
   ]
  },
  {
   "cell_type": "code",
   "execution_count": null,
   "metadata": {},
   "outputs": [],
   "source": []
  }
 ],
 "metadata": {
  "kernelspec": {
   "display_name": "Python 3",
   "language": "python",
   "name": "python3"
  },
  "language_info": {
   "codemirror_mode": {
    "name": "ipython",
    "version": 3
   },
   "file_extension": ".py",
   "mimetype": "text/x-python",
   "name": "python",
   "nbconvert_exporter": "python",
   "pygments_lexer": "ipython3",
   "version": "3.7.3"
  }
 },
 "nbformat": 4,
 "nbformat_minor": 2
}
