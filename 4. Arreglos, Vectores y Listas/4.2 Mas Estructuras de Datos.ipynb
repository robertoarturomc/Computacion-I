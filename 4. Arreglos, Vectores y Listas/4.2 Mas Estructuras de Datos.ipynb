{
  "cells": [
    {
      "cell_type": "markdown",
      "metadata": {
        "id": "NEdN_np7Ofd5"
      },
      "source": [
        "# 4.2 Más Estructuras de Datos\n",
        "\n",
        "Ya aprendimos nuestras primeras dos estructuras de Datos en Python: listas y tuplas. La principal diferencia es que las primeras sí se pueden modificar.\n",
        "\n",
        "A continuación, veremos otras estructuras que sí se pueden modificar. ¿La primer diferencia? Éstas no necesariamente están ordenadas."
      ]
    },
    {
      "cell_type": "markdown",
      "source": [
        "## Sets\n",
        "\n",
        "Si te fijas bien, una lista puede tener valores repetidos."
      ],
      "metadata": {
        "id": "VsKk375UQ9kc"
      }
    },
    {
      "cell_type": "code",
      "source": [
        "mi_lista = [23, 15, 76, 23, 10, 23]\n",
        "mi_lista"
      ],
      "metadata": {
        "id": "9SbydtbgRIEG",
        "outputId": "f3ad83d1-9ee6-42b1-c41b-31666bb94632",
        "colab": {
          "base_uri": "https://localhost:8080/"
        }
      },
      "execution_count": 1,
      "outputs": [
        {
          "output_type": "execute_result",
          "data": {
            "text/plain": [
              "[23, 15, 76, 23, 10, 23]"
            ]
          },
          "metadata": {},
          "execution_count": 1
        }
      ]
    },
    {
      "cell_type": "markdown",
      "source": [
        "No obstante, si usamos llaves (`{}`), estaremos creando una nueva estructura, diferente de tuplas y listas, llamada __Sets__. Es el equivalente al conjunto de las Matemáticas.\n",
        "\n",
        "Éstas, sólo aceptan valores únicos."
      ],
      "metadata": {
        "id": "xGxdePRvRPPW"
      }
    },
    {
      "cell_type": "code",
      "source": [
        "mi_set = {8, 15, 12, 25}\n",
        "mi_set"
      ],
      "metadata": {
        "id": "iOAA5SaGSVWt"
      },
      "execution_count": null,
      "outputs": []
    },
    {
      "cell_type": "markdown",
      "source": [
        "De hecho, si meto valores repetidos al crear un Set, Python eliminará los duplicados y se quedará con uno de cada uno."
      ],
      "metadata": {
        "id": "aW4CdazhSV--"
      }
    },
    {
      "cell_type": "code",
      "source": [
        "mi_set2 = {23, 15, 76, 23, 10, 23}\n",
        "mi_set2"
      ],
      "metadata": {
        "id": "xFqRrRT8SDMq",
        "outputId": "fb59e8d9-5c94-4c93-b176-79cece1cd723",
        "colab": {
          "base_uri": "https://localhost:8080/"
        }
      },
      "execution_count": 4,
      "outputs": [
        {
          "output_type": "execute_result",
          "data": {
            "text/plain": [
              "{10, 15, 23, 76}"
            ]
          },
          "metadata": {},
          "execution_count": 4
        }
      ]
    },
    {
      "cell_type": "markdown",
      "source": [
        "Por cierto, ¿te das cuenta de que Python reordena los elementos dentro de un set? Esto porque los sets _no son ordenados_. Entonces, no puedo utilizar un índice para extraer algún elemento, como sí lo hacía con listas y tuplas."
      ],
      "metadata": {
        "id": "8SC-y3XgSdSB"
      }
    },
    {
      "cell_type": "code",
      "source": [
        "mi_set2[0]"
      ],
      "metadata": {
        "id": "btNX7BCBSij2",
        "outputId": "9fbeae16-73ab-4190-eaaa-6df059ed123f",
        "colab": {
          "base_uri": "https://localhost:8080/",
          "height": 168
        }
      },
      "execution_count": 5,
      "outputs": [
        {
          "output_type": "error",
          "ename": "TypeError",
          "evalue": "ignored",
          "traceback": [
            "\u001b[0;31m---------------------------------------------------------------------------\u001b[0m",
            "\u001b[0;31mTypeError\u001b[0m                                 Traceback (most recent call last)",
            "\u001b[0;32m<ipython-input-5-8e7f5d0ac04e>\u001b[0m in \u001b[0;36m<module>\u001b[0;34m()\u001b[0m\n\u001b[0;32m----> 1\u001b[0;31m \u001b[0mmi_set2\u001b[0m\u001b[0;34m[\u001b[0m\u001b[0;36m0\u001b[0m\u001b[0;34m]\u001b[0m\u001b[0;34m\u001b[0m\u001b[0;34m\u001b[0m\u001b[0m\n\u001b[0m",
            "\u001b[0;31mTypeError\u001b[0m: 'set' object is not subscriptable"
          ]
        }
      ]
    },
    {
      "cell_type": "markdown",
      "source": [
        "Sin embargo, los sets son muy útiles cuando tengo que estar trabajando con valores únicos...\n",
        "\n",
        "### Operaciones con sets.\n",
        "\n",
        "Supongamos que tengo un par de listas, que incluyen a los alumnos que están tomando dos materias distintas..."
      ],
      "metadata": {
        "id": "-oaGqnMrTTXo"
      }
    },
    {
      "cell_type": "code",
      "source": [
        "calculo = [\"Natalia\", \"Gerardo\", \"Carolina\", \"Ana\", \"Luis\", \"Mauricio\", \"Francisco\", \"Natalia\"]\n",
        "algebra = [\"Rebeca\", \"Gerardo\", \"Sofia\", \"Paulina\", \"Pablo\", \"Sofia\", \"Luis\", \"Jose\"]"
      ],
      "metadata": {
        "id": "w5CMmvL8TjIr"
      },
      "execution_count": 8,
      "outputs": []
    },
    {
      "cell_type": "markdown",
      "source": [
        "Por error, ¡escribí algunos alumnos dos veces dentro de cada materia!\n",
        "No se preocupen; si las convierto a sets, puedo eliminar los duplicados dentro de cada arreglo..."
      ],
      "metadata": {
        "id": "mawIWsUtT9nJ"
      }
    },
    {
      "cell_type": "code",
      "source": [
        "calculo_set = set(calculo)\n",
        "calculo_set"
      ],
      "metadata": {
        "id": "6J04GcFzUkuv",
        "outputId": "19832e62-987a-48b1-c8c8-e48c0c9ec6b2",
        "colab": {
          "base_uri": "https://localhost:8080/"
        }
      },
      "execution_count": 13,
      "outputs": [
        {
          "output_type": "execute_result",
          "data": {
            "text/plain": [
              "{'Ana', 'Carolina', 'Francisco', 'Gerardo', 'Luis', 'Mauricio', 'Natalia'}"
            ]
          },
          "metadata": {},
          "execution_count": 13
        }
      ]
    },
    {
      "cell_type": "code",
      "source": [
        "algebra_set = set(algebra)\n",
        "algebra_set"
      ],
      "metadata": {
        "id": "p_YEalBTUpyn",
        "outputId": "5d549fe5-2580-4ff5-ec1d-7cce08e0cbe6",
        "colab": {
          "base_uri": "https://localhost:8080/"
        }
      },
      "execution_count": 14,
      "outputs": [
        {
          "output_type": "execute_result",
          "data": {
            "text/plain": [
              "{'Gerardo', 'Jose', 'Luis', 'Pablo', 'Paulina', 'Rebeca', 'Sofia'}"
            ]
          },
          "metadata": {},
          "execution_count": 14
        }
      ]
    },
    {
      "cell_type": "markdown",
      "source": [
        "Ahora, digamos que quiero tener a tooodoos los alumnos, independientemente de la materia que están tomando.\n",
        "\n",
        "Al igual que en matemáticas, esta sería una **unión de conjuntos**, y se realiza así:"
      ],
      "metadata": {
        "id": "9SC1KmoKVYTY"
      }
    },
    {
      "cell_type": "code",
      "source": [
        "calculo_set | algebra_set"
      ],
      "metadata": {
        "id": "YphjQZOFU33P",
        "outputId": "b5d42ddd-fa33-4242-e58d-15970f17d433",
        "colab": {
          "base_uri": "https://localhost:8080/"
        }
      },
      "execution_count": 17,
      "outputs": [
        {
          "output_type": "execute_result",
          "data": {
            "text/plain": [
              "{'Ana',\n",
              " 'Carolina',\n",
              " 'Francisco',\n",
              " 'Gerardo',\n",
              " 'Jose',\n",
              " 'Luis',\n",
              " 'Mauricio',\n",
              " 'Natalia',\n",
              " 'Pablo',\n",
              " 'Paulina',\n",
              " 'Rebeca',\n",
              " 'Sofia'}"
            ]
          },
          "metadata": {},
          "execution_count": 17
        }
      ]
    },
    {
      "cell_type": "markdown",
      "source": [
        "Como estoy trabajando con sets, los alumnos que toman ambas materias sólo aparecen una vez al realizar la unión.\n",
        "\n",
        "Ahora, ¿qué alumnos están tomando ambas materias?\n",
        "\n",
        "Esa sería una **intersección de conjuntos** y se realiza así:"
      ],
      "metadata": {
        "id": "Ix4oVAZoVtUh"
      }
    },
    {
      "cell_type": "code",
      "source": [
        "calculo_set & algebra_set"
      ],
      "metadata": {
        "id": "0lRx-d9kV-gQ",
        "outputId": "db4b99a7-c4ea-48d5-e408-a95412a48664",
        "colab": {
          "base_uri": "https://localhost:8080/"
        }
      },
      "execution_count": 18,
      "outputs": [
        {
          "output_type": "execute_result",
          "data": {
            "text/plain": [
              "{'Gerardo', 'Luis'}"
            ]
          },
          "metadata": {},
          "execution_count": 18
        }
      ]
    },
    {
      "cell_type": "markdown",
      "source": [
        "Ahora, ¿qué alumnos sólo toman cálculo, pero no álgebra?\n",
        "\n",
        "Es decir, la **diferencia de conjuntos**."
      ],
      "metadata": {
        "id": "hMnfpNW3V9xG"
      }
    },
    {
      "cell_type": "code",
      "source": [
        "calculo_set - algebra_set"
      ],
      "metadata": {
        "id": "IOc6NesDWhM5",
        "outputId": "a6caf16d-a514-495f-f58a-ad1066e0bb22",
        "colab": {
          "base_uri": "https://localhost:8080/"
        }
      },
      "execution_count": 19,
      "outputs": [
        {
          "output_type": "execute_result",
          "data": {
            "text/plain": [
              "{'Ana', 'Carolina', 'Francisco', 'Mauricio', 'Natalia'}"
            ]
          },
          "metadata": {},
          "execution_count": 19
        }
      ]
    },
    {
      "cell_type": "markdown",
      "source": [
        "Y viceversa..."
      ],
      "metadata": {
        "id": "dn7wpmkZWj73"
      }
    },
    {
      "cell_type": "code",
      "source": [
        "algebra_set - calculo_set"
      ],
      "metadata": {
        "id": "ldbs93dJWnLz",
        "outputId": "9ee1c831-cd32-4e01-d655-fea780d2e162",
        "colab": {
          "base_uri": "https://localhost:8080/"
        }
      },
      "execution_count": 20,
      "outputs": [
        {
          "output_type": "execute_result",
          "data": {
            "text/plain": [
              "{'Jose', 'Pablo', 'Paulina', 'Rebeca', 'Sofia'}"
            ]
          },
          "metadata": {},
          "execution_count": 20
        }
      ]
    },
    {
      "cell_type": "markdown",
      "source": [
        "Por último, ¿qué alumnos sólo toman una materia?\n",
        "\n",
        "Es decir, la **diferencia simétrica de los conjuntos**."
      ],
      "metadata": {
        "id": "K6enQZPRW4-q"
      }
    },
    {
      "cell_type": "code",
      "source": [
        "calculo_set ^ algebra_set"
      ],
      "metadata": {
        "id": "LW8MRI_sXLnG",
        "outputId": "f4e8a37a-eb07-4f9f-8c96-e90dbdd0c951",
        "colab": {
          "base_uri": "https://localhost:8080/"
        }
      },
      "execution_count": 21,
      "outputs": [
        {
          "output_type": "execute_result",
          "data": {
            "text/plain": [
              "{'Ana',\n",
              " 'Carolina',\n",
              " 'Francisco',\n",
              " 'Jose',\n",
              " 'Mauricio',\n",
              " 'Natalia',\n",
              " 'Pablo',\n",
              " 'Paulina',\n",
              " 'Rebeca',\n",
              " 'Sofia'}"
            ]
          },
          "metadata": {},
          "execution_count": 21
        }
      ]
    },
    {
      "cell_type": "markdown",
      "source": [
        "Una vez ocupadas las propiedades de sets, podemos regresar a trabajar con listas y/o tuplas, según nos convenga."
      ],
      "metadata": {
        "id": "PE-Q6Q4rXali"
      }
    },
    {
      "cell_type": "code",
      "source": [
        "nuevo_set = algebra_set - calculo_set\n",
        "nuevo_set"
      ],
      "metadata": {
        "id": "UDGvm5QkXjMN",
        "outputId": "b309315e-b473-47eb-bc7c-71de18306dfc",
        "colab": {
          "base_uri": "https://localhost:8080/"
        }
      },
      "execution_count": 22,
      "outputs": [
        {
          "output_type": "execute_result",
          "data": {
            "text/plain": [
              "{'Jose', 'Pablo', 'Paulina', 'Rebeca', 'Sofia'}"
            ]
          },
          "metadata": {},
          "execution_count": 22
        }
      ]
    },
    {
      "cell_type": "code",
      "source": [
        "nueva_lista = list(nuevo_set)\n",
        "nueva_lista"
      ],
      "metadata": {
        "id": "OOsR-grfXl9N",
        "outputId": "97151c2f-7de1-4975-8b82-b725aa81a3c8",
        "colab": {
          "base_uri": "https://localhost:8080/"
        }
      },
      "execution_count": 23,
      "outputs": [
        {
          "output_type": "execute_result",
          "data": {
            "text/plain": [
              "['Sofia', 'Pablo', 'Jose', 'Paulina', 'Rebeca']"
            ]
          },
          "metadata": {},
          "execution_count": 23
        }
      ]
    },
    {
      "cell_type": "code",
      "source": [
        "nueva_lista[2:len(nueva_lista)]"
      ],
      "metadata": {
        "id": "04f7BK06XpPy",
        "outputId": "afee2a08-52e9-433c-8c55-5633e6e413c4",
        "colab": {
          "base_uri": "https://localhost:8080/"
        }
      },
      "execution_count": 24,
      "outputs": [
        {
          "output_type": "execute_result",
          "data": {
            "text/plain": [
              "['Jose', 'Paulina', 'Rebeca']"
            ]
          },
          "metadata": {},
          "execution_count": 24
        }
      ]
    },
    {
      "cell_type": "code",
      "source": [
        "nueva_tupla = tuple(nueva_lista[1:-2])\n",
        "nueva_tupla"
      ],
      "metadata": {
        "id": "GGu-If7nX-XN",
        "outputId": "69c89e1e-936a-4997-f46f-ffeca214c927",
        "colab": {
          "base_uri": "https://localhost:8080/"
        }
      },
      "execution_count": 26,
      "outputs": [
        {
          "output_type": "execute_result",
          "data": {
            "text/plain": [
              "('Pablo', 'Jose')"
            ]
          },
          "metadata": {},
          "execution_count": 26
        }
      ]
    },
    {
      "cell_type": "markdown",
      "metadata": {
        "id": "sfB9JTFBOfeS"
      },
      "source": [
        "Etc. etc.\n",
        "\n",
        "Por cierto; este tema en Matemáticas se conoce como Teoría de Conjuntos....y lo repasaras bastante en tus clases de Probabilidad.\n",
        "\n",
        "## Diccionarios\n",
        "La última estructura de datos básica de Python se llaman **Diccionarios**.\n",
        "\n",
        "Son muy útiles cuando necesitamos guardar valores emparejados. Por ejemplo, en la vida real, cuando estamos describiendo algo, frecuentemente usamos el formato *característica-valor:*\n",
        "\n",
        "* Ojos: Negros\n",
        "* Piel: Canela\n",
        "\n",
        "En este ejemplo, a las características que usamos pare describir les llamaremos **llaves** o claves (keys), y a los valores que pueden tomar esa característica...les llamaremos así, **valores** (values).\n",
        "\n",
        "Para definir un diccionario en Python, usaremos las llaves `{}`. Cada entrada tendrá el formato `llave: valor`, y estarán separadas por comas."
      ]
    },
    {
      "cell_type": "code",
      "execution_count": null,
      "metadata": {
        "id": "WL2xi3QuOfeS",
        "outputId": "cefbce0a-60d2-42fc-a2d9-ff26d0779611"
      },
      "outputs": [
        {
          "data": {
            "text/plain": [
              "{'País': 'Emirato Islámico de Afganistán',\n",
              " 'Capital': 'Kabul',\n",
              " 'Poblacion': 35688822,\n",
              " 'Costa': False}"
            ]
          },
          "execution_count": 4,
          "metadata": {},
          "output_type": "execute_result"
        }
      ],
      "source": [
        "mi_diccionario = {\"País\": \"Emirato Islámico de Afganistán\",\n",
        "                 \"Capital\": \"Kabul\",\n",
        "                 \"Poblacion\": 35688822, \"Costa\":False}\n",
        "\n",
        "mi_diccionario"
      ]
    },
    {
      "cell_type": "markdown",
      "metadata": {
        "id": "C5hb0c4BOfeS"
      },
      "source": [
        "### Recuperando valores de un Diccionario\n",
        "A diferencia de las tuplas y las listas, acá los elementos no vienen ordenados. Internamente, la computadora guardará mis datos de la forma que considere más óptima, y no es fácil de indentificarlo.\n",
        "\n",
        "Para poder acceder a los valores, se ocupan también los corchetes desués del nombre, pero escribiendo la llave en vez de algún índice:"
      ]
    },
    {
      "cell_type": "code",
      "execution_count": null,
      "metadata": {
        "id": "MiMUfBqAOfeT",
        "outputId": "0339c14e-2638-447c-fdcb-a254ef39d952"
      },
      "outputs": [
        {
          "data": {
            "text/plain": [
              "35688822"
            ]
          },
          "execution_count": 10,
          "metadata": {},
          "output_type": "execute_result"
        }
      ],
      "source": [
        "mi_diccionario[\"Poblacion\"]"
      ]
    },
    {
      "cell_type": "markdown",
      "metadata": {
        "id": "y3Dnbg1ROfeT"
      },
      "source": [
        "(Nota: ¡Python distingue entre mayúsculas y minúsculas!)"
      ]
    },
    {
      "cell_type": "code",
      "execution_count": null,
      "metadata": {
        "id": "zxeG0Y4yOfeT",
        "outputId": "d480dcb3-2acd-4ccd-cb5d-9b1bfbf60560"
      },
      "outputs": [
        {
          "ename": "KeyError",
          "evalue": "'poblacion'",
          "output_type": "error",
          "traceback": [
            "\u001b[1;31m---------------------------------------------------------------------------\u001b[0m",
            "\u001b[1;31mKeyError\u001b[0m                                  Traceback (most recent call last)",
            "\u001b[1;32m<ipython-input-13-afe143cc8627>\u001b[0m in \u001b[0;36m<module>\u001b[1;34m\u001b[0m\n\u001b[1;32m----> 1\u001b[1;33m \u001b[0mmi_diccionario\u001b[0m\u001b[1;33m[\u001b[0m\u001b[1;34m\"poblacion\"\u001b[0m\u001b[1;33m]\u001b[0m\u001b[1;33m\u001b[0m\u001b[1;33m\u001b[0m\u001b[0m\n\u001b[0m",
            "\u001b[1;31mKeyError\u001b[0m: 'poblacion'"
          ]
        }
      ],
      "source": [
        "mi_diccionario[\"poblacion\"]"
      ]
    },
    {
      "cell_type": "markdown",
      "metadata": {
        "id": "XH9mHY3FOfeT"
      },
      "source": [
        "Si no recuerdo cómo se llamaban mis llaves, puedo recuperar esa información con un `.keys()` después del nombre de mi diccionario (Es un _método_)."
      ]
    },
    {
      "cell_type": "code",
      "execution_count": null,
      "metadata": {
        "id": "hZsVbHNxOfeU",
        "outputId": "2b5b7925-3457-4ad3-de00-640f9a101a08"
      },
      "outputs": [
        {
          "data": {
            "text/plain": [
              "dict_keys(['País', 'Capital', 'Poblacion', 'Costa'])"
            ]
          },
          "execution_count": 23,
          "metadata": {},
          "output_type": "execute_result"
        }
      ],
      "source": [
        "mi_diccionario.keys()"
      ]
    },
    {
      "cell_type": "markdown",
      "metadata": {
        "id": "jgR-R_QHOfeU"
      },
      "source": [
        "### Modificando un diccionario\n",
        "\n",
        "Agregar información nueva es muy sencilla. Sólo tengo que seguir este formato:\n",
        "\n",
        "` diccionario[\"nueva llave\"] = \"nuevo valor\" `"
      ]
    },
    {
      "cell_type": "code",
      "execution_count": null,
      "metadata": {
        "id": "iQJojsFTOfeU",
        "outputId": "94fbee19-22a9-46d9-d8c3-de6e8a419fce"
      },
      "outputs": [
        {
          "data": {
            "text/plain": [
              "{'País': 'Emirato Islámico de Afganistán',\n",
              " 'Capital': 'Kabul',\n",
              " 'Poblacion': 35688822,\n",
              " 'Costa': False,\n",
              " 'Moneda': 'afgani'}"
            ]
          },
          "execution_count": 24,
          "metadata": {},
          "output_type": "execute_result"
        }
      ],
      "source": [
        "mi_diccionario[\"Moneda\"] = \"afgani\"\n",
        "mi_diccionario"
      ]
    },
    {
      "cell_type": "markdown",
      "metadata": {
        "id": "YocUwbVTOfeU"
      },
      "source": [
        "Y si quiero sobreescribir algún valor, hago lo mismo, pero con alguna llave ya existente."
      ]
    },
    {
      "cell_type": "code",
      "execution_count": null,
      "metadata": {
        "id": "CbC8xGS3OfeU",
        "outputId": "be998ed6-9d01-4365-d292-146b70350273"
      },
      "outputs": [
        {
          "data": {
            "text/plain": [
              "{'País': 'Emirato Islámico de Afganistán',\n",
              " 'Capital': 'Kabul',\n",
              " 'Poblacion': 35687123,\n",
              " 'Costa': False,\n",
              " 'Moneda': 'afgani'}"
            ]
          },
          "execution_count": 27,
          "metadata": {},
          "output_type": "execute_result"
        }
      ],
      "source": [
        "mi_diccionario[\"Poblacion\"] = 35687123\n",
        "mi_diccionario"
      ]
    },
    {
      "cell_type": "markdown",
      "metadata": {
        "id": "7bP-AMTQOfeV"
      },
      "source": [
        "Finalmente, para eliminar algún valor, ocupo el método `.pop(llave)`"
      ]
    },
    {
      "cell_type": "code",
      "execution_count": null,
      "metadata": {
        "id": "VenCkExYOfeV",
        "outputId": "7db42544-8c30-407c-8dcb-d5c69d1af0ac"
      },
      "outputs": [
        {
          "data": {
            "text/plain": [
              "{'País': 'Emirato Islámico de Afganistán',\n",
              " 'Poblacion': 35687123,\n",
              " 'Costa': False,\n",
              " 'Moneda': 'afgani'}"
            ]
          },
          "execution_count": 29,
          "metadata": {},
          "output_type": "execute_result"
        }
      ],
      "source": [
        "mi_diccionario.pop(\"Capital\")\n",
        "mi_diccionario"
      ]
    },
    {
      "cell_type": "markdown",
      "metadata": {
        "id": "JPG_d8pkOfeV"
      },
      "source": [
        "## Estructuras complejas"
      ]
    },
    {
      "cell_type": "markdown",
      "metadata": {
        "id": "FKv6XQd7OfeV"
      },
      "source": [
        "Tanto las llaves, como los valores, pueden ser de cualquier tipo de dato. Tradicionalmente, las llaves sólo son _strings_, mientras que los valores, números, strings, e incluso, otra estructura de datos."
      ]
    },
    {
      "cell_type": "code",
      "execution_count": null,
      "metadata": {
        "id": "0K8uQsiFOfeV",
        "outputId": "ddba3571-8592-4218-8c3f-e6930c89a473"
      },
      "outputs": [
        {
          "data": {
            "text/plain": [
              "{'Miembros': ['Alemania', 'Francia', 'España', 'Grecia', 'Italia', 'Polonia'],\n",
              " 'Moneda': 'Euro',\n",
              " 'Fundacion': 1993,\n",
              " 'Idiomas': {'Francés': ['Francia', 'Bélgica'],\n",
              "  'Alemán': ['Alemania', 'Austria']}}"
            ]
          },
          "execution_count": 6,
          "metadata": {},
          "output_type": "execute_result"
        }
      ],
      "source": [
        "union_europea = {\"Miembros\": [\"Alemania\", \"Francia\", \"España\", \"Grecia\", \"Italia\", \"Polonia\"],\n",
        "                 \"Moneda\": \"Euro\",\n",
        "                 \"Fundacion\": 1993,\n",
        "                 \"Idiomas\": {\"Francés\": [\"Francia\", \"Bélgica\"], \n",
        "                             \"Alemán\": [\"Alemania\", \"Austria\"]} }\n",
        "\n",
        "union_europea"
      ]
    },
    {
      "cell_type": "markdown",
      "metadata": {
        "id": "BjvpSjyFOfeW"
      },
      "source": [
        "Nota: (Esto aplica también para las otras estructuras ya vistas, donde podemos tener listas de listas, tuplas de diccionarios, etc.)"
      ]
    },
    {
      "cell_type": "code",
      "execution_count": null,
      "metadata": {
        "id": "n8gmrrCOOfeW",
        "outputId": "e24cbacd-af5a-42d9-c612-7a6132a91815"
      },
      "outputs": [
        {
          "data": {
            "text/plain": [
              "[{'País': 'Emirato Islámico de Afganistán',\n",
              "  'Capital': 'Kabul',\n",
              "  'Poblacion': 35688822,\n",
              "  'Costa': False},\n",
              " {'Miembros': ['Alemania', 'Francia', 'España', 'Grecia', 'Italia', 'Polonia'],\n",
              "  'Moneda': 'Euro',\n",
              "  'Fundacion': 1993,\n",
              "  'Idiomas': {'Francés': ['Francia', 'Bélgica'],\n",
              "   'Alemán': ['Alemania', 'Austria']}}]"
            ]
          },
          "execution_count": 8,
          "metadata": {},
          "output_type": "execute_result"
        }
      ],
      "source": [
        "lista_de_diccionarios = [mi_diccionario, union_europea]\n",
        "\n",
        "lista_de_diccionarios"
      ]
    },
    {
      "cell_type": "markdown",
      "metadata": {
        "id": "NWio0Nu3OfeW"
      },
      "source": [
        "Y para recuperar información, sólo falta ir subseleccionando uno por uno, tratando por separado cada estructura:"
      ]
    },
    {
      "cell_type": "code",
      "execution_count": null,
      "metadata": {
        "id": "nDT1j8buOfeX",
        "outputId": "6c2d347f-3247-4933-8386-21c80c158db4"
      },
      "outputs": [
        {
          "data": {
            "text/plain": [
              "{'Miembros': ['Alemania', 'Francia', 'España', 'Grecia', 'Italia', 'Polonia'],\n",
              " 'Moneda': 'Euro',\n",
              " 'Fundacion': 1993,\n",
              " 'Idiomas': {'Francés': ['Francia', 'Bélgica'],\n",
              "  'Alemán': ['Alemania', 'Austria']}}"
            ]
          },
          "execution_count": 18,
          "metadata": {},
          "output_type": "execute_result"
        }
      ],
      "source": [
        "lista_de_diccionarios[1]"
      ]
    },
    {
      "cell_type": "code",
      "execution_count": null,
      "metadata": {
        "id": "1YkrXCmsOfeX",
        "outputId": "3ed86f00-3ace-4259-c953-1980e216a5b7"
      },
      "outputs": [
        {
          "data": {
            "text/plain": [
              "{'Francés': ['Francia', 'Bélgica'], 'Alemán': ['Alemania', 'Austria']}"
            ]
          },
          "execution_count": 19,
          "metadata": {},
          "output_type": "execute_result"
        }
      ],
      "source": [
        "lista_de_diccionarios[1][\"Idiomas\"]"
      ]
    },
    {
      "cell_type": "code",
      "execution_count": null,
      "metadata": {
        "id": "6qYmNy4QOfeX",
        "outputId": "3548c869-d2fe-494d-cd31-6c00dd4beedd"
      },
      "outputs": [
        {
          "data": {
            "text/plain": [
              "['Alemania', 'Austria']"
            ]
          },
          "execution_count": 20,
          "metadata": {},
          "output_type": "execute_result"
        }
      ],
      "source": [
        "lista_de_diccionarios[1][\"Idiomas\"][\"Alemán\"]"
      ]
    },
    {
      "cell_type": "code",
      "execution_count": null,
      "metadata": {
        "id": "i8Mj8FwIOfeX",
        "outputId": "2f01d4d5-b037-48ff-9486-361156fb4ae8"
      },
      "outputs": [
        {
          "data": {
            "text/plain": [
              "'Alemania'"
            ]
          },
          "execution_count": 21,
          "metadata": {},
          "output_type": "execute_result"
        }
      ],
      "source": [
        "lista_de_diccionarios[1][\"Idiomas\"][\"Alemán\"][0]"
      ]
    },
    {
      "cell_type": "markdown",
      "metadata": {
        "id": "91ql2SYLOfeX"
      },
      "source": [
        "Estas estructuras, y sobretodo los diccionarios, son bastante importantes, puesto que el formato casi universal entre distintos lenguajes de programación. No por ello, varias formas de compartir datos vienen en formatos parecidos: las *API*, los formatos *.json*, las bases de datos NoSQL, etc."
      ]
    },
    {
      "cell_type": "markdown",
      "metadata": {
        "id": "peyiP7AROfeY"
      },
      "source": [
        "Tip: en Notebook, si se te olvidó abrir y cerrar paréntesis, sólo tienes que seleccionar el texto y, ya que lo tienes seleccionado, dar clic en la tecla que abre paréntesis. En automático, el texto seleccionado, ¡estará rodeado de paréntesis! Funciona también con comillas, corchetes y llaves."
      ]
    },
    {
      "cell_type": "code",
      "execution_count": null,
      "metadata": {
        "id": "-I3n6LYTOfeY",
        "outputId": "a5a71e4a-4200-4753-fe08-99369859fbca"
      },
      "outputs": [
        {
          "ename": "NameError",
          "evalue": "name 'abrigo' is not defined",
          "output_type": "error",
          "traceback": [
            "\u001b[1;31m---------------------------------------------------------------------------\u001b[0m",
            "\u001b[1;31mNameError\u001b[0m                                 Traceback (most recent call last)",
            "\u001b[1;32m<ipython-input-31-6bf49d577714>\u001b[0m in \u001b[0;36m<module>\u001b[1;34m\u001b[0m\n\u001b[1;32m----> 1\u001b[1;33m \u001b[1;34m\"hoodie\"\u001b[0m\u001b[1;33m,\u001b[0m \u001b[1;34m\"suéter\"\u001b[0m\u001b[1;33m,\u001b[0m \u001b[1;34m\"chamarra\"\u001b[0m\u001b[1;33m,\u001b[0m \u001b[0mabrigo\u001b[0m\u001b[1;33m\u001b[0m\u001b[1;33m\u001b[0m\u001b[0m\n\u001b[0m",
            "\u001b[1;31mNameError\u001b[0m: name 'abrigo' is not defined"
          ]
        }
      ],
      "source": [
        "\"hoodie\", \"suéter\", \"chamarra\", abrigo"
      ]
    },
    {
      "cell_type": "code",
      "execution_count": null,
      "metadata": {
        "id": "ubRIrSjgOfeY"
      },
      "outputs": [],
      "source": [
        ""
      ]
    }
  ],
  "metadata": {
    "kernelspec": {
      "display_name": "Python 3",
      "language": "python",
      "name": "python3"
    },
    "language_info": {
      "codemirror_mode": {
        "name": "ipython",
        "version": 3
      },
      "file_extension": ".py",
      "mimetype": "text/x-python",
      "name": "python",
      "nbconvert_exporter": "python",
      "pygments_lexer": "ipython3",
      "version": "3.7.3"
    },
    "colab": {
      "name": "3.1 Estructuras de datos básicas..ipynb",
      "provenance": []
    }
  },
  "nbformat": 4,
  "nbformat_minor": 0
}
