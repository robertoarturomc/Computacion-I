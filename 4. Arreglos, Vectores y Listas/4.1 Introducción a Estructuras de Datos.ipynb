{
 "cells": [
  {
   "cell_type": "markdown",
   "metadata": {},
   "source": [
    "# 4.1 Estructuras de Datos\n",
    "\n",
    "Muy bonito y todo trabajar con textos y números de manera individual, pero, ¿existirá forma de trabajar con más de uno al mismo tiempo?\n",
    "\n",
    "Sí. Pero, para ello, tenemos que conocer las distintas formas en las que podemos almacenar todos esos datos.\n",
    "\n",
    "Piensa que tienes el siguiente problema:"
   ]
  },
  {
   "cell_type": "code",
   "execution_count": 2,
   "metadata": {},
   "outputs": [],
   "source": [
    "# Queremos saber quién de tus compañer@s de clase es mayor, menor, etc. \n",
    "# Antes de empezar, guarda en variables los nombres y sus edades.\n",
    "\n",
    "estudiante1 = \"Luis\" \n",
    "edad1 = 18\n",
    "\n",
    "estudiante2 = \"Marco\"\n",
    "edad2 = 19\n",
    "\n",
    "estudiante3 = \"Paola\"\n",
    "edad3 = 18\n",
    "\n",
    "estudiante4 = \"Juan\"\n",
    "edad4 = 19\n",
    "\n",
    "estudiante5 = \"Letty\"\n",
    "edad5 = 20\n",
    "\n",
    "# etc, etc..."
   ]
  },
  {
   "cell_type": "markdown",
   "metadata": {},
   "source": [
    "¡Muy frustrante! Y aún me faltan compañeros.\n",
    "Ahora, imagínate que estás trabajando con municipios, con clientes de un banco, o en general, con sets bastante grandes de datos. Eventualmente, ¡me quedaría sin ideas de nombres para variables! Súmale el riesgo que habría si me confundo y le pongo la edad equivocada a cierta persona, o si me brinco algún dato al estarlos vaciando, etc.\n",
    "\n",
    "Para resolverlo, en computación se crearon las estructuras de Datos."
   ]
  },
  {
   "cell_type": "markdown",
   "metadata": {},
   "source": [
    "## Tuplas.\n",
    "La forma más básica se llama tupla. Nos permite almacenar varios variables en un sólo objeto. No obstante, una vez creada, **no** se puede modificar.\n",
    "\n",
    "Para crearla, encierro todos los elementos entre paréntesis, y los separo con comas."
   ]
  },
  {
   "cell_type": "code",
   "execution_count": 1,
   "metadata": {},
   "outputs": [
    {
     "data": {
      "text/plain": [
       "('a', 'b', 'c')"
      ]
     },
     "execution_count": 1,
     "metadata": {},
     "output_type": "execute_result"
    }
   ],
   "source": [
    "(\"a\", \"b\", \"c\")"
   ]
  },
  {
   "cell_type": "code",
   "execution_count": 3,
   "metadata": {},
   "outputs": [
    {
     "data": {
      "text/plain": [
       "(35, 36.4, 32, 214.2)"
      ]
     },
     "execution_count": 3,
     "metadata": {},
     "output_type": "execute_result"
    }
   ],
   "source": [
    "(35, 36.4 , 32, 214.2)"
   ]
  },
  {
   "cell_type": "markdown",
   "metadata": {},
   "source": [
    "Puedo combinar distintos tipos de variables:"
   ]
  },
  {
   "cell_type": "code",
   "execution_count": 2,
   "metadata": {},
   "outputs": [
    {
     "data": {
      "text/plain": [
       "('Perro', 1, True)"
      ]
     },
     "execution_count": 2,
     "metadata": {},
     "output_type": "execute_result"
    }
   ],
   "source": [
    "(\"Perro\", 1, True)"
   ]
  },
  {
   "cell_type": "markdown",
   "metadata": {},
   "source": [
    "Y, al igual que los elementos en solitario, también puedo guardarlos con algún nombre de variable."
   ]
  },
  {
   "cell_type": "code",
   "execution_count": 3,
   "metadata": {},
   "outputs": [
    {
     "data": {
      "text/plain": [
       "(2020, 'Covid')"
      ]
     },
     "execution_count": 3,
     "metadata": {},
     "output_type": "execute_result"
    }
   ],
   "source": [
    "mi_tupla = (2020, \"Covid\")\n",
    "mi_tupla"
   ]
  },
  {
   "cell_type": "markdown",
   "metadata": {},
   "source": [
    "Una vez guardada, puedo recuperar cada uno de los elementos por separado. Para ello, ocupo un índice con corchetes. ¡Recuerda que Python empieza a contar desde 0!"
   ]
  },
  {
   "cell_type": "code",
   "execution_count": 4,
   "metadata": {},
   "outputs": [
    {
     "data": {
      "text/plain": [
       "2020"
      ]
     },
     "execution_count": 4,
     "metadata": {},
     "output_type": "execute_result"
    }
   ],
   "source": [
    "mi_tupla[0]"
   ]
  },
  {
   "cell_type": "code",
   "execution_count": 5,
   "metadata": {},
   "outputs": [
    {
     "data": {
      "text/plain": [
       "'Covid'"
      ]
     },
     "execution_count": 5,
     "metadata": {},
     "output_type": "execute_result"
    }
   ],
   "source": [
    "mi_tupla[1]"
   ]
  },
  {
   "cell_type": "markdown",
   "metadata": {},
   "source": [
    "Incluso, ¡se pueden crear _tuplas_ de _tuplas_! Esto es, tuplas cuyo al menos un elemento sea otra tupla."
   ]
  },
  {
   "cell_type": "code",
   "execution_count": 5,
   "metadata": {},
   "outputs": [
    {
     "data": {
      "text/plain": [
       "(124, 214, (123, 56))"
      ]
     },
     "execution_count": 5,
     "metadata": {},
     "output_type": "execute_result"
    }
   ],
   "source": [
    "tupla_grande = (124, 214, (123, 56))\n",
    "tupla_grande"
   ]
  },
  {
   "cell_type": "markdown",
   "metadata": {},
   "source": [
    "¿Cómo extraigo, digamos, el 56 en esa tupla? Bueno, por partes, primero puedo extraer la tupla que está adentro. Si te fijas, está en la __tercera__ posición de la tupla exterior...y como Python empieza a contar desde 0, tendría que hacer algo como esto:"
   ]
  },
  {
   "cell_type": "code",
   "execution_count": 6,
   "metadata": {},
   "outputs": [
    {
     "data": {
      "text/plain": [
       "(123, 56)"
      ]
     },
     "execution_count": 6,
     "metadata": {},
     "output_type": "execute_result"
    }
   ],
   "source": [
    "tupla_grande[2]"
   ]
  },
  {
   "cell_type": "markdown",
   "metadata": {},
   "source": [
    "¡Ya extraje la tupla interior! Ahora sólo tendría que extraer el 56 dentro de esta otra tupla. Como está en la __segunda__ posición, agrego el índice 1, de la siguiente manera:"
   ]
  },
  {
   "cell_type": "code",
   "execution_count": 7,
   "metadata": {},
   "outputs": [
    {
     "data": {
      "text/plain": [
       "56"
      ]
     },
     "execution_count": 7,
     "metadata": {},
     "output_type": "execute_result"
    }
   ],
   "source": [
    "tupla_grande[2][1]"
   ]
  },
  {
   "cell_type": "markdown",
   "metadata": {},
   "source": [
    "Ahora, ¿Cómo haría cuando tengo una tupla muy grande, y contar se vuelve bastante difícil? Bueno, para eso tengo una función llamada _len_."
   ]
  },
  {
   "cell_type": "code",
   "execution_count": 11,
   "metadata": {},
   "outputs": [
    {
     "data": {
      "text/plain": [
       "('a',\n",
       " 'ante',\n",
       " 'bajo',\n",
       " 'cabe',\n",
       " 'con',\n",
       " 'contra',\n",
       " 'de',\n",
       " 'desde',\n",
       " 'durante',\n",
       " 'en',\n",
       " 'entre',\n",
       " 'hacia',\n",
       " 'hasta',\n",
       " 'mediante',\n",
       " 'para',\n",
       " 'por',\n",
       " 'según',\n",
       " 'sin',\n",
       " 'so',\n",
       " 'sobre',\n",
       " 'tras',\n",
       " 'versus',\n",
       " 'vía')"
      ]
     },
     "execution_count": 11,
     "metadata": {},
     "output_type": "execute_result"
    }
   ],
   "source": [
    "tupla_larga = (\"a\", \"ante\", \"bajo\", \"cabe\", \"con\", \"contra\", \"de\", \"desde\", \"durante\", \"en\", \"entre\", \"hacia\", \"hasta\", \"mediante\", \"para\", \"por\", \"según\", \"sin\", \"so\", \"sobre\", \"tras\", \"versus\", \"vía\")\n",
    "tupla_larga"
   ]
  },
  {
   "cell_type": "code",
   "execution_count": 12,
   "metadata": {},
   "outputs": [
    {
     "data": {
      "text/plain": [
       "23"
      ]
     },
     "execution_count": 12,
     "metadata": {},
     "output_type": "execute_result"
    }
   ],
   "source": [
    "len(tupla_larga)"
   ]
  },
  {
   "cell_type": "markdown",
   "metadata": {},
   "source": [
    "¿Cuándo usar tuplas? Las tuplas son útiles si manejamos datos que conocemos de antemano (p.e. usuario, email, password) donde sería peligroso cambiar un valor durante el proceso."
   ]
  },
  {
   "cell_type": "markdown",
   "metadata": {},
   "source": [
    "## Listas\n",
    "\n",
    "No obstante, en algunos casos las tuplas están limitadas, puesto que no puedo modificarlas. Por ello, también existen las **listas**. Estas se crean de forma similar, aunque utilizando corchetes."
   ]
  },
  {
   "cell_type": "code",
   "execution_count": 17,
   "metadata": {},
   "outputs": [
    {
     "data": {
      "text/plain": [
       "[1, 5, 'Leones']"
      ]
     },
     "execution_count": 17,
     "metadata": {},
     "output_type": "execute_result"
    }
   ],
   "source": [
    "[1, 5, \"Leones\"]"
   ]
  },
  {
   "cell_type": "code",
   "execution_count": 18,
   "metadata": {},
   "outputs": [
    {
     "data": {
      "text/plain": [
       "[1, 2, 10]"
      ]
     },
     "execution_count": 18,
     "metadata": {},
     "output_type": "execute_result"
    }
   ],
   "source": [
    "mi_lista = [1, 2, 10]\n",
    "mi_lista"
   ]
  },
  {
   "cell_type": "markdown",
   "metadata": {},
   "source": [
    "Funcionan casi igual que las tuplas..."
   ]
  },
  {
   "cell_type": "code",
   "execution_count": 19,
   "metadata": {},
   "outputs": [
    {
     "data": {
      "text/plain": [
       "10"
      ]
     },
     "execution_count": 19,
     "metadata": {},
     "output_type": "execute_result"
    }
   ],
   "source": [
    "mi_lista[2]"
   ]
  },
  {
   "cell_type": "markdown",
   "metadata": {},
   "source": [
    "¡Pero estas sí las puedo modificar!"
   ]
  },
  {
   "cell_type": "markdown",
   "metadata": {},
   "source": [
    "### Agregar un elemento a la lista.\n",
    "Para hacerlo, agrego un `.append(< nuevo elemento >` después del nombre de la lista."
   ]
  },
  {
   "cell_type": "code",
   "execution_count": 24,
   "metadata": {},
   "outputs": [
    {
     "data": {
      "text/plain": [
       "['Lluvias', 2021, False]"
      ]
     },
     "execution_count": 24,
     "metadata": {},
     "output_type": "execute_result"
    }
   ],
   "source": [
    "lista_nueva = [\"Lluvias\", 2021, False]\n",
    "lista_nueva"
   ]
  },
  {
   "cell_type": "code",
   "execution_count": 25,
   "metadata": {},
   "outputs": [
    {
     "data": {
      "text/plain": [
       "['Lluvias', 2021, False, 3.14]"
      ]
     },
     "execution_count": 25,
     "metadata": {},
     "output_type": "execute_result"
    }
   ],
   "source": [
    "lista_nueva.append(3.14)\n",
    "lista_nueva"
   ]
  },
  {
   "cell_type": "markdown",
   "metadata": {},
   "source": [
    "Es común usar esta propiedad dentro de los ciclos *for:* para ir llenando poco a poco una lista."
   ]
  },
  {
   "cell_type": "code",
   "execution_count": 26,
   "metadata": {},
   "outputs": [
    {
     "data": {
      "text/plain": [
       "[0, 2, 4, 6, 8, 10, 12, 14, 16, 18]"
      ]
     },
     "execution_count": 26,
     "metadata": {},
     "output_type": "execute_result"
    }
   ],
   "source": [
    "pares = []\n",
    "for i in range(20):\n",
    "    if i % 2 == 0:\n",
    "        pares.append(i)\n",
    "        \n",
    "pares"
   ]
  },
  {
   "cell_type": "markdown",
   "metadata": {},
   "source": [
    "### Eliminar un elemento de una lista.\n",
    "Para hacerlo, agrego un `.remove(< elemento a eliminar >` después del nombre de la lista."
   ]
  },
  {
   "cell_type": "code",
   "execution_count": 27,
   "metadata": {},
   "outputs": [
    {
     "data": {
      "text/plain": [
       "[2, 4, 6, 8, 10, 12, 14, 16, 18]"
      ]
     },
     "execution_count": 27,
     "metadata": {},
     "output_type": "execute_result"
    }
   ],
   "source": [
    "pares.remove(0)\n",
    "pares"
   ]
  },
  {
   "cell_type": "markdown",
   "metadata": {},
   "source": [
    "### Conocer el tamaño de una lista.\n",
    "\n",
    "Las tuplas y las listas comparten varias funciones y métodos. Por ejemplo, si quiero saber cuántos elementos hay en una lista..."
   ]
  },
  {
   "cell_type": "code",
   "execution_count": 28,
   "metadata": {},
   "outputs": [
    {
     "data": {
      "text/plain": [
       "9"
      ]
     },
     "execution_count": 28,
     "metadata": {},
     "output_type": "execute_result"
    }
   ],
   "source": [
    "len(pares)"
   ]
  },
  {
   "cell_type": "markdown",
   "metadata": {},
   "source": [
    "### Listas dentro de ciclos for\n",
    "\n",
    "Las listas (y las tuplas también) se suelen utilizar dentro de los ciclos for, como una alternativa al range(a,b) que vimos anteriormente. \n",
    "\n",
    "Esta vez, en lugar de llevar una variable contadora, el ciclo irá recorriendo cada uno de los elementos de mi estructura, de tal forma que a cada elemento lo utilice para hacer alguna operación, transformación, etc."
   ]
  },
  {
   "cell_type": "code",
   "execution_count": 14,
   "metadata": {},
   "outputs": [
    {
     "name": "stdout",
     "output_type": "stream",
     "text": [
      "Juan\n",
      "Paco\n",
      "Pedro\n"
     ]
    }
   ],
   "source": [
    "for i in [\"Juan\", \"Paco\", \"Pedro\"]:\n",
    "    print(i)"
   ]
  },
  {
   "cell_type": "markdown",
   "metadata": {},
   "source": [
    "¿Recuerdas _pares_? Bueno, ¿qué pasa si quiero multiplicar TODOS los elementos de una lista por cierto valor, o sumarles algo, etc.\n",
    "\n",
    "Bueno, las listas no son tan buenas para trabajar con operaciones algebraicas de forma directa..."
   ]
  },
  {
   "cell_type": "code",
   "execution_count": 31,
   "metadata": {},
   "outputs": [
    {
     "data": {
      "text/plain": [
       "[2, 4, 6, 8, 10, 12, 14, 16, 18, 2, 4, 6, 8, 10, 12, 14, 16, 18]"
      ]
     },
     "execution_count": 31,
     "metadata": {},
     "output_type": "execute_result"
    }
   ],
   "source": [
    "# \"Multiplicar\" repite todos los elementos de la lista n veces\n",
    "pares * 2"
   ]
  },
  {
   "cell_type": "code",
   "execution_count": 33,
   "metadata": {},
   "outputs": [
    {
     "ename": "TypeError",
     "evalue": "can only concatenate list (not \"int\") to list",
     "output_type": "error",
     "traceback": [
      "\u001b[1;31m---------------------------------------------------------------------------\u001b[0m",
      "\u001b[1;31mTypeError\u001b[0m                                 Traceback (most recent call last)",
      "\u001b[1;32m<ipython-input-33-f428ae5c7d90>\u001b[0m in \u001b[0;36m<module>\u001b[1;34m\u001b[0m\n\u001b[1;32m----> 1\u001b[1;33m \u001b[0mpares\u001b[0m \u001b[1;33m+\u001b[0m \u001b[1;36m25\u001b[0m\u001b[1;33m\u001b[0m\u001b[1;33m\u001b[0m\u001b[0m\n\u001b[0m",
      "\u001b[1;31mTypeError\u001b[0m: can only concatenate list (not \"int\") to list"
     ]
    }
   ],
   "source": [
    "# La suma me arroja error...\n",
    "pares + 25"
   ]
  },
  {
   "cell_type": "code",
   "execution_count": 34,
   "metadata": {},
   "outputs": [
    {
     "data": {
      "text/plain": [
       "[2, 4, 6, 8, 10, 12, 14, 16, 18, 20, 22, 24, 26]"
      ]
     },
     "execution_count": 34,
     "metadata": {},
     "output_type": "execute_result"
    }
   ],
   "source": [
    "# Pero la \"suma\" también es útil para pegar dos listas entre sí...parecidas a lo que pasaba cuando \"sumaba\" dos string.\n",
    "\n",
    "pares + [20, 22, 24, 26]"
   ]
  },
  {
   "cell_type": "markdown",
   "metadata": {},
   "source": [
    "Por cierto, recuerda que, mientras no guarde mis modificaciones a la lista, estas sólo serán temporales."
   ]
  },
  {
   "cell_type": "code",
   "execution_count": 36,
   "metadata": {},
   "outputs": [
    {
     "data": {
      "text/plain": [
       "[2, 4, 6, 8, 10, 12, 14, 16, 18]"
      ]
     },
     "execution_count": 36,
     "metadata": {},
     "output_type": "execute_result"
    }
   ],
   "source": [
    "pares"
   ]
  },
  {
   "cell_type": "code",
   "execution_count": 38,
   "metadata": {},
   "outputs": [],
   "source": [
    "# Tendría que guardar mi lista con los nuevos elementos\n",
    "pares = pares + [20, 22, 24, 26]"
   ]
  },
  {
   "cell_type": "markdown",
   "metadata": {},
   "source": [
    "Entonces, si quiero aplicar una operación (o varias) a cada elemento de una lista, tengo que utilizar un ciclo..."
   ]
  },
  {
   "cell_type": "code",
   "execution_count": 42,
   "metadata": {},
   "outputs": [
    {
     "data": {
      "text/plain": [
       "[4, 8, 12, 16, 20, 24, 28, 32, 36, 40, 44, 48, 52]"
      ]
     },
     "execution_count": 42,
     "metadata": {},
     "output_type": "execute_result"
    }
   ],
   "source": [
    "pares2 = []\n",
    "for i in pares:\n",
    "    pares2.append(i * 2)\n",
    "\n",
    "pares2"
   ]
  },
  {
   "cell_type": "markdown",
   "metadata": {},
   "source": [
    "En este último código, si hubiera utilizado el conocimiento que tenía hasta ahora de ciclos, hubiera hecho algo así:"
   ]
  },
  {
   "cell_type": "code",
   "execution_count": 43,
   "metadata": {},
   "outputs": [
    {
     "data": {
      "text/plain": [
       "[4, 8, 12, 16, 20, 24, 28, 32, 36, 40, 44, 48, 52]"
      ]
     },
     "execution_count": 43,
     "metadata": {},
     "output_type": "execute_result"
    }
   ],
   "source": [
    "pares2 = []\n",
    "for j in range(len(pares)):\n",
    "    pares2.append(pares[j] * 2)\n",
    "\n",
    "pares2"
   ]
  },
  {
   "cell_type": "markdown",
   "metadata": {},
   "source": [
    "Nota cómo:\n",
    "* j ya no recorre los elementos de la lista, sino _el número de elementos_ de la lista.\n",
    "* _range()_ necesita un valor numérico para saber cuántos valores voy a usar. ¿Y cuántos serán? Pues el número de elementos en mi lista...y eso lo conozco utilizando _len()_.\n",
    "* Como estoy usando un contador, tengo que usar pares[j] para extraer cada elemento."
   ]
  },
  {
   "cell_type": "code",
   "execution_count": null,
   "metadata": {},
   "outputs": [],
   "source": []
  }
 ],
 "metadata": {
  "kernelspec": {
   "display_name": "Python 3",
   "language": "python",
   "name": "python3"
  },
  "language_info": {
   "codemirror_mode": {
    "name": "ipython",
    "version": 3
   },
   "file_extension": ".py",
   "mimetype": "text/x-python",
   "name": "python",
   "nbconvert_exporter": "python",
   "pygments_lexer": "ipython3",
   "version": "3.7.3"
  }
 },
 "nbformat": 4,
 "nbformat_minor": 2
}
