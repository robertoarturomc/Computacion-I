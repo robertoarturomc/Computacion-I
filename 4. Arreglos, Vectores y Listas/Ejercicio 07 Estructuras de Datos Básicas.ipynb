{
 "cells": [
  {
   "cell_type": "markdown",
   "metadata": {},
   "source": [
    "## Ejercicio 7: Estructuras de Datos.\n",
    "\n",
    "Contesta los siguientes ejercicios y sube el archivo en formato .ipynb en donde el profesor te lo indique."
   ]
  },
  {
   "cell_type": "markdown",
   "metadata": {},
   "source": [
    "#### 1. Crea una tupla que contenga las materias que cursas este semestre. Ponle el nombre \"materias\"."
   ]
  },
  {
   "cell_type": "code",
   "execution_count": null,
   "metadata": {},
   "outputs": [],
   "source": []
  },
  {
   "cell_type": "markdown",
   "metadata": {},
   "source": [
    "#### 2. Extrae:\n",
    "* El tercer elemento de lista1\n",
    "* El quinto elemento de lista2\n",
    "* El último elemento de lista3"
   ]
  },
  {
   "cell_type": "code",
   "execution_count": 3,
   "metadata": {},
   "outputs": [],
   "source": [
    "lista1 = [\"Perro\", \"Lobo\", \"Coyote\"]\n",
    "lista2 = [1, \"Juan\", 2, \"Paco\", \"Pedro\"]\n",
    "lista3 = [12, 345, 3, 3, 56]"
   ]
  },
  {
   "cell_type": "code",
   "execution_count": null,
   "metadata": {},
   "outputs": [],
   "source": []
  },
  {
   "cell_type": "code",
   "execution_count": null,
   "metadata": {},
   "outputs": [],
   "source": []
  },
  {
   "cell_type": "code",
   "execution_count": null,
   "metadata": {},
   "outputs": [],
   "source": []
  },
  {
   "cell_type": "markdown",
   "metadata": {},
   "source": [
    "Nota: ¡prueba qué pasa si usas `lista3[-1]`"
   ]
  },
  {
   "cell_type": "markdown",
   "metadata": {},
   "source": [
    "#### 3. Completa el ciclo for y la condicional, para que **listita** tenga los valores de listota, pero sólo si son menores a 10. "
   ]
  },
  {
   "cell_type": "code",
   "execution_count": null,
   "metadata": {},
   "outputs": [],
   "source": [
    "listota = [5, 13, 25, 18, 2, 34, 1]\n",
    "listita =[]\n",
    "for i in \n"
   ]
  },
  {
   "cell_type": "markdown",
   "metadata": {},
   "source": [
    "#### 4. Modifica el diccionario *mi_perfil* para que tenga lo que se te indica:"
   ]
  },
  {
   "cell_type": "code",
   "execution_count": 3,
   "metadata": {},
   "outputs": [],
   "source": [
    "mi_perfil = {\"carrera\": \"Actuaría\",\n",
    "            \"semestre\": \"Quinto\",\n",
    "            \"contraseña\": \"***\"}"
   ]
  },
  {
   "cell_type": "markdown",
   "metadata": {},
   "source": [
    "a) Corrige tu semestre"
   ]
  },
  {
   "cell_type": "code",
   "execution_count": null,
   "metadata": {},
   "outputs": [],
   "source": []
  },
  {
   "cell_type": "markdown",
   "metadata": {},
   "source": [
    "b) Agrega tu ciudad de origen."
   ]
  },
  {
   "cell_type": "code",
   "execution_count": null,
   "metadata": {},
   "outputs": [],
   "source": []
  },
  {
   "cell_type": "markdown",
   "metadata": {},
   "source": [
    "c) ¡Elimina tu contraseña!"
   ]
  },
  {
   "cell_type": "code",
   "execution_count": null,
   "metadata": {},
   "outputs": [],
   "source": []
  },
  {
   "cell_type": "markdown",
   "metadata": {},
   "source": [
    "#### 5. Extrae del siguiente diccionario la información que se pide:"
   ]
  },
  {
   "cell_type": "code",
   "execution_count": 1,
   "metadata": {},
   "outputs": [],
   "source": [
    "superbowl = {\"equipos\":{\"Rams\":{\"jugadores\": [\"Stafford\", \"Kupp\", \"Donald\"], \"puntos\":23},\n",
    "                        \"Bengals\":{\"Jugadores\": [\"Burrow\", \"Chase\", \"Apple\"], \"puntos\":20}},\n",
    "            \"medio tiempo\": [\"Snoop Dogg\", \"Dr. Dre\", \"Mary J. Blige\", \"Eminem\", \"Kendrick Lamar\"]}"
   ]
  },
  {
   "cell_type": "markdown",
   "metadata": {},
   "source": [
    "a) El apellido del tercer jugador de los Rams"
   ]
  },
  {
   "cell_type": "code",
   "execution_count": null,
   "metadata": {},
   "outputs": [],
   "source": []
  },
  {
   "cell_type": "markdown",
   "metadata": {},
   "source": [
    "b) Los puntos que anotaron los Bengals"
   ]
  },
  {
   "cell_type": "code",
   "execution_count": null,
   "metadata": {},
   "outputs": [],
   "source": []
  },
  {
   "cell_type": "markdown",
   "metadata": {},
   "source": [
    "c) El nombre del participante del show del medio tiempo que te cae mejor."
   ]
  },
  {
   "cell_type": "code",
   "execution_count": null,
   "metadata": {},
   "outputs": [],
   "source": []
  }
 ],
 "metadata": {
  "kernelspec": {
   "display_name": "Python 3",
   "language": "python",
   "name": "python3"
  },
  "language_info": {
   "codemirror_mode": {
    "name": "ipython",
    "version": 3
   },
   "file_extension": ".py",
   "mimetype": "text/x-python",
   "name": "python",
   "nbconvert_exporter": "python",
   "pygments_lexer": "ipython3",
   "version": "3.7.3"
  }
 },
 "nbformat": 4,
 "nbformat_minor": 2
}
