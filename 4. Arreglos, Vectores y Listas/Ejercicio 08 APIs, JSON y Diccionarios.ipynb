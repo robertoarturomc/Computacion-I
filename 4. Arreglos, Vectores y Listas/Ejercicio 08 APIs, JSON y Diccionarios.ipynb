{
 "cells": [
  {
   "cell_type": "markdown",
   "metadata": {},
   "source": [
    "# Ejercicio 08: APIs, JSON y Diccionarios\n",
    "\n",
    "El uso de Diccionarios es importante para Python, puesto que el formato de `{llave: valor}` es muy común para transmitir información a través de internet, de apps, o en Bases de datos, entre otros. Por ejemplo, es  usado por:\n",
    "\n",
    "1. Algunas bases de Datos, especialmente las NoSQL (que se usan para almacenar _Big Data_, como MongoDB).\n",
    "2. Los archivos JSON, que suelen ser descargables en internet o transmitibles a través de correos electrónicos y plataformas.\n",
    "3. Las APIs.\n",
    "\n",
    "Vamos a utilizar esa tercera forma en este ejercicio.\n"
   ]
  },
  {
   "cell_type": "markdown",
   "metadata": {},
   "source": [
    "## APIs\n",
    "\n",
    "No sé si lo sabías, pero toda la información que podemos consultar a través del internet (páginas web, videos, fotografías, juegos en línea), tiene que existir en físico en algún lado. Es decir, hay computadoras dedicadas a guardar todos esos datos, que tienen que estar prendidas todo el tiempo y que comparten a cientos y miles de usuarios esa información. A ellos, se les conoce como **servidores**.\n",
    "\n",
    "Pues bien. cuando queremos cierta información, se tiene que mandar una _solicitud_ (request) a ese servidot. A las personas que realizan dicha solicitud, se les llama _cliente_. \n",
    "\n",
    "La transmisión de información se ve algo así:"
   ]
  },
  {
   "cell_type": "markdown",
   "metadata": {},
   "source": [
    "![image](https://res.cloudinary.com/practicaldev/image/fetch/s--4OSbdj3v--/c_limit%2Cf_auto%2Cfl_progressive%2Cq_auto%2Cw_880/https://dev-to-uploads.s3.amazonaws.com/i/f8cxx3oj8gfflo1mb15o.jpeg)"
   ]
  },
  {
   "cell_type": "markdown",
   "metadata": {},
   "source": [
    "Por eso es que cuando medimos la velocidad de nuetro internet, tenemos dos velocidades: la de carga (enviar información) y de descarga (regresar respuesta).\n",
    "\n",
    "Las APIs es el caso cuando nuestra solicitud, en vez de ser para ver una página web, un video o algo similar, es una solicitud de datos a un servidor.\n",
    "\n",
    "Es común encontrar APIs en Internet. Tus Servicios de Internet favoritos (Instagram, Twitter, Spotify) tienen APIs. Gracias a ellas existen páginas de terceros que analizan sus datos, o que se construyen aplicaciones que que traen insertados tuits, TikToks, etc.\n",
    "\n",
    "Hay APis de temas de Biología, de Deportes, de notas periodísticas, Astronomía, etc. Para practicar, hoy trabajaremos con la API de _Open Movie Database_, un compendio de información en Internet sobre muchísimas películas."
   ]
  },
  {
   "cell_type": "code",
   "execution_count": 8,
   "metadata": {},
   "outputs": [],
   "source": [
    "# Ocuparemos estos paquetes para descargar nuestra información\n",
    "import requests\n",
    "import json"
   ]
  },
  {
   "cell_type": "markdown",
   "metadata": {},
   "source": [
    "Antes de continuar, revisa la webpage http://www.omdbapi.com/\n",
    "\n",
    "1. Lee, a grandes rasgos, la documentación.\n",
    "2. Regístrate en _API key_ (hasta arriba de la página) para generar tu propia api key (contraseña) y sustituirla en la celda de abajo:"
   ]
  },
  {
   "cell_type": "code",
   "execution_count": 9,
   "metadata": {},
   "outputs": [],
   "source": [
    "# Si ves la documentación de OMDB, veras que ?t= se ocupa para buscar por título\n",
    "api_key = \"trilogy\"\n",
    "\n",
    "url = \"http://www.omdbapi.com/?&apikey=\" + api_key + \"&t=\""
   ]
  },
  {
   "cell_type": "code",
   "execution_count": 10,
   "metadata": {},
   "outputs": [
    {
     "data": {
      "text/plain": [
       "{'Title': 'The Batman',\n",
       " 'Year': '2022',\n",
       " 'Rated': 'PG-13',\n",
       " 'Released': '04 Mar 2022',\n",
       " 'Runtime': '176 min',\n",
       " 'Genre': 'Action, Crime, Drama',\n",
       " 'Director': 'Matt Reeves',\n",
       " 'Writer': 'Matt Reeves, Peter Craig, Bill Finger',\n",
       " 'Actors': 'Robert Pattinson, Zoë Kravitz, Jeffrey Wright',\n",
       " 'Plot': \"When the Riddler, a sadistic serial killer, begins murdering key political figures in Gotham, Batman is forced to investigate the city's hidden corruption and question his family's involvement.\",\n",
       " 'Language': 'English',\n",
       " 'Country': 'United States',\n",
       " 'Awards': '3 nominations',\n",
       " 'Poster': 'https://m.media-amazon.com/images/M/MV5BMDdmMTBiNTYtMDIzNi00NGVlLWIzMDYtZTk3MTQ3NGQxZGEwXkEyXkFqcGdeQXVyMzMwOTU5MDk@._V1_SX300.jpg',\n",
       " 'Ratings': [{'Source': 'Internet Movie Database', 'Value': '8.4/10'},\n",
       "  {'Source': 'Rotten Tomatoes', 'Value': '85%'},\n",
       "  {'Source': 'Metacritic', 'Value': '72/100'}],\n",
       " 'Metascore': '72',\n",
       " 'imdbRating': '8.4',\n",
       " 'imdbVotes': '224,141',\n",
       " 'imdbID': 'tt1877830',\n",
       " 'Type': 'movie',\n",
       " 'DVD': '19 Apr 2022',\n",
       " 'BoxOffice': '$239,032,047',\n",
       " 'Production': 'N/A',\n",
       " 'Website': 'N/A',\n",
       " 'Response': 'True'}"
      ]
     },
     "execution_count": 10,
     "metadata": {},
     "output_type": "execute_result"
    }
   ],
   "source": [
    "# Busquemos información de cierta película...\n",
    "title = \"The Batman\"\n",
    "movie = requests.get(url + title).json()\n",
    "movie"
   ]
  },
  {
   "cell_type": "markdown",
   "metadata": {},
   "source": [
    "¡Puedo traer información de Internet directo a mi programa, sin estar copiando y pegando!\n",
    "\n",
    "Y, si te fijas, esta viene en formato de diccionario..."
   ]
  },
  {
   "cell_type": "code",
   "execution_count": 11,
   "metadata": {},
   "outputs": [
    {
     "data": {
      "text/plain": [
       "'176 min'"
      ]
     },
     "execution_count": 11,
     "metadata": {},
     "output_type": "execute_result"
    }
   ],
   "source": [
    "movie[\"Runtime\"]"
   ]
  },
  {
   "cell_type": "markdown",
   "metadata": {},
   "source": [
    "### Ejercicios\n",
    "\n",
    "1. Cambia _title_ por el título de tu película favorita y busca su información."
   ]
  },
  {
   "cell_type": "code",
   "execution_count": 12,
   "metadata": {},
   "outputs": [
    {
     "data": {
      "text/plain": [
       "{'Title': 'Spider-Man: Into the Spider-Verse',\n",
       " 'Year': '2018',\n",
       " 'Rated': 'PG',\n",
       " 'Released': '14 Dec 2018',\n",
       " 'Runtime': '117 min',\n",
       " 'Genre': 'Animation, Action, Adventure',\n",
       " 'Director': 'Bob Persichetti, Peter Ramsey, Rodney Rothman',\n",
       " 'Writer': 'Phil Lord, Rodney Rothman',\n",
       " 'Actors': 'Shameik Moore, Jake Johnson, Hailee Steinfeld',\n",
       " 'Plot': 'Teen Miles Morales becomes the Spider-Man of his universe, and must join with five spider-powered individuals from other dimensions to stop a threat for all realities.',\n",
       " 'Language': 'English, Spanish',\n",
       " 'Country': 'United States',\n",
       " 'Awards': 'Won 1 Oscar. 82 wins & 57 nominations total',\n",
       " 'Poster': 'https://m.media-amazon.com/images/M/MV5BMjMwNDkxMTgzOF5BMl5BanBnXkFtZTgwNTkwNTQ3NjM@._V1_SX300.jpg',\n",
       " 'Ratings': [{'Source': 'Internet Movie Database', 'Value': '8.4/10'},\n",
       "  {'Source': 'Rotten Tomatoes', 'Value': '97%'},\n",
       "  {'Source': 'Metacritic', 'Value': '87/100'}],\n",
       " 'Metascore': '87',\n",
       " 'imdbRating': '8.4',\n",
       " 'imdbVotes': '473,159',\n",
       " 'imdbID': 'tt4633694',\n",
       " 'Type': 'movie',\n",
       " 'DVD': '19 Mar 2019',\n",
       " 'BoxOffice': '$190,241,310',\n",
       " 'Production': 'N/A',\n",
       " 'Website': 'N/A',\n",
       " 'Response': 'True'}"
      ]
     },
     "execution_count": 12,
     "metadata": {},
     "output_type": "execute_result"
    }
   ],
   "source": [
    "title = \"Into the Spider-Verse\"\n",
    "movie = requests.get(url + title).json()\n",
    "movie"
   ]
  },
  {
   "cell_type": "markdown",
   "metadata": {},
   "source": [
    "2. Extrae el año en el que salió la película"
   ]
  },
  {
   "cell_type": "code",
   "execution_count": null,
   "metadata": {},
   "outputs": [],
   "source": []
  },
  {
   "cell_type": "markdown",
   "metadata": {},
   "source": [
    "3. ¿En qué país fue producida la película? "
   ]
  },
  {
   "cell_type": "code",
   "execution_count": null,
   "metadata": {},
   "outputs": [],
   "source": []
  },
  {
   "cell_type": "markdown",
   "metadata": {},
   "source": [
    "4. Sustituye lo que sea que diga en _'Genre'_ por \"Mi película favorita.\""
   ]
  },
  {
   "cell_type": "code",
   "execution_count": null,
   "metadata": {},
   "outputs": [],
   "source": []
  },
  {
   "cell_type": "markdown",
   "metadata": {},
   "source": [
    "5. Si te fijas, \"Ratings\" es una lista de diccionarios. ¿Cuál es la longitud de esa lista?"
   ]
  },
  {
   "cell_type": "code",
   "execution_count": null,
   "metadata": {},
   "outputs": [],
   "source": []
  },
  {
   "cell_type": "markdown",
   "metadata": {},
   "source": [
    "6. Completa el Ciclo para que, si 'Ratings' incluye la calificación otorgada por 'Rotten Tomatoes', te imprima su 'Value' correspondiente."
   ]
  },
  {
   "cell_type": "code",
   "execution_count": 7,
   "metadata": {},
   "outputs": [
    {
     "ename": "SyntaxError",
     "evalue": "invalid syntax (<ipython-input-7-e549a1b2cb7a>, line 2)",
     "output_type": "error",
     "traceback": [
      "\u001b[1;36m  File \u001b[1;32m\"<ipython-input-7-e549a1b2cb7a>\"\u001b[1;36m, line \u001b[1;32m2\u001b[0m\n\u001b[1;33m    if calificacion...\u001b[0m\n\u001b[1;37m                     ^\u001b[0m\n\u001b[1;31mSyntaxError\u001b[0m\u001b[1;31m:\u001b[0m invalid syntax\n"
     ]
    }
   ],
   "source": [
    "for calificacion in movie[\"Ratings\"]:\n",
    "    if calificacion..."
   ]
  },
  {
   "cell_type": "markdown",
   "metadata": {},
   "source": [
    "7. Usa el método `.pop()` para eliminar el \"Plot\" de tu diccionario. Imprime el diccionario para ver que haya funcionado."
   ]
  },
  {
   "cell_type": "code",
   "execution_count": null,
   "metadata": {},
   "outputs": [],
   "source": []
  },
  {
   "cell_type": "markdown",
   "metadata": {},
   "source": [
    "8. Crea una tupla con 3 títulos de películas que no te gusten. Guárdala en una variable llamada  _detesto_."
   ]
  },
  {
   "cell_type": "code",
   "execution_count": 13,
   "metadata": {},
   "outputs": [],
   "source": [
    "detesto = (\"Twilight\", \"Harry Potter\", \"Batman v Superman\")"
   ]
  },
  {
   "cell_type": "markdown",
   "metadata": {},
   "source": [
    "9. El siguiente código utiliza las tres películas que guardaste para hacer tres consultas a la API.\n",
    "Completa el código para guardar sus tres \"imdbRating\" en una lista llamada _calficaciones_"
   ]
  },
  {
   "cell_type": "code",
   "execution_count": 17,
   "metadata": {},
   "outputs": [],
   "source": [
    "for peli in detesto:\n",
    "    movie = requests.get(url + peli).json()\n",
    "    "
   ]
  },
  {
   "cell_type": "markdown",
   "metadata": {},
   "source": [
    "10. Básate en el mismo código del ejercicio anterior para crear una nueva lista llamada _calificaciones_buenas_. Ésta sólo tendrá las calicaciones de las películas que detestas, pero sólo si el \"imdbRating\" es mayor o igual a 8.5.\n",
    "\n",
    "    Tip: quizá tengas que usar la función `float()` para cambiar el tipo de dato, de string a numérico y poder ver si es mayor a 8.5."
   ]
  },
  {
   "cell_type": "code",
   "execution_count": null,
   "metadata": {},
   "outputs": [],
   "source": []
  }
 ],
 "metadata": {
  "kernelspec": {
   "display_name": "Python 3",
   "language": "python",
   "name": "python3"
  },
  "language_info": {
   "codemirror_mode": {
    "name": "ipython",
    "version": 3
   },
   "file_extension": ".py",
   "mimetype": "text/x-python",
   "name": "python",
   "nbconvert_exporter": "python",
   "pygments_lexer": "ipython3",
   "version": "3.7.3"
  }
 },
 "nbformat": 4,
 "nbformat_minor": 2
}
