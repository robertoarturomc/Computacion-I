{
 "cells": [
  {
   "cell_type": "markdown",
   "metadata": {},
   "source": [
    "# 2.2 Proposiciones Lógicas.\n",
    "\n",
    "¿Recuerdas los valores Booleanos?"
   ]
  },
  {
   "cell_type": "code",
   "execution_count": 1,
   "metadata": {},
   "outputs": [
    {
     "data": {
      "text/plain": [
       "True"
      ]
     },
     "execution_count": 1,
     "metadata": {},
     "output_type": "execute_result"
    }
   ],
   "source": [
    "True"
   ]
  },
  {
   "cell_type": "code",
   "execution_count": 2,
   "metadata": {},
   "outputs": [
    {
     "data": {
      "text/plain": [
       "False"
      ]
     },
     "execution_count": 2,
     "metadata": {},
     "output_type": "execute_result"
    }
   ],
   "source": [
    "False"
   ]
  },
  {
   "cell_type": "markdown",
   "metadata": {},
   "source": [
    "El primer gran uso que vamos a ver con ellos tiene que ver con tooooda una rama de la matemática denominada **Lógica**, muy importante en computación. A continuación, tomaremos un curso exprés, que iremos complementando poco a poco dentro de otros temas.\n",
    "\n",
    "La lógica trabaja con problemas muy típicos de la vida real. Piensa en estas oraciones:\n",
    "\n",
    "1. Enero es el primer mes del año.\n",
    "2. Pi es menor que 4.\n",
    "3. Han disparó primero.\n",
    "4. Estamos como a un minuto de aterrizar. A menos, como a 5 minutos.\n",
    "\n",
    "A este tipo de oraciones las podemos llamar **proposiciones**. ¿Qué las distingue? Cada una de ellas la podemos considerar como _verdadera_ o como _falsa_, sin dudarlo.\n",
    "\n",
    "Eso sí. La mayoría de las veces, pero no siempre, nuestras proposiciones serán del tipo numéricas (¿recuerdas los operadores de comparación?). "
   ]
  },
  {
   "cell_type": "code",
   "execution_count": 3,
   "metadata": {},
   "outputs": [
    {
     "data": {
      "text/plain": [
       "True"
      ]
     },
     "execution_count": 3,
     "metadata": {},
     "output_type": "execute_result"
    }
   ],
   "source": [
    "1 < 5"
   ]
  },
  {
   "cell_type": "code",
   "execution_count": 4,
   "metadata": {},
   "outputs": [
    {
     "data": {
      "text/plain": [
       "False"
      ]
     },
     "execution_count": 4,
     "metadata": {},
     "output_type": "execute_result"
    }
   ],
   "source": [
    "(21 % 2) == 0"
   ]
  },
  {
   "cell_type": "code",
   "execution_count": 5,
   "metadata": {},
   "outputs": [
    {
     "data": {
      "text/plain": [
       "True"
      ]
     },
     "execution_count": 5,
     "metadata": {},
     "output_type": "execute_result"
    }
   ],
   "source": [
    "var1 = 5\n",
    "\n",
    "(var1 + 4) >= 9"
   ]
  },
  {
   "cell_type": "code",
   "execution_count": 6,
   "metadata": {},
   "outputs": [
    {
     "data": {
      "text/plain": [
       "True"
      ]
     },
     "execution_count": 6,
     "metadata": {},
     "output_type": "execute_result"
    }
   ],
   "source": [
    "var1 != 'var1'"
   ]
  },
  {
   "cell_type": "markdown",
   "metadata": {},
   "source": [
    "Pero bueno. Para nuestros ejemplos, ocuparemos oraciones como las que vimos anteriormente, antes de pasar a los números."
   ]
  },
  {
   "cell_type": "markdown",
   "metadata": {},
   "source": [
    "## Negación.\n",
    "\n",
    "Nuestro primer operador lógico es el más fácil de entender. La negación cambia las valores `True` a `False` y viceversa.\n",
    "\n",
    "* En Matemáticas, se suele usar el símbolo `¬`.\n",
    "\n",
    "* **En Python,** dependiendo del problema, el operador de negación se suele expresar con el símbolo `~` o la palabra **not**.\n",
    "\n",
    "\n",
    "Por ejemplo:\n",
    "\n",
    "~(\"El perro es negro\") = \"El perro **no** es negro\"."
   ]
  },
  {
   "cell_type": "code",
   "execution_count": 7,
   "metadata": {},
   "outputs": [
    {
     "data": {
      "text/plain": [
       "False"
      ]
     },
     "execution_count": 7,
     "metadata": {},
     "output_type": "execute_result"
    }
   ],
   "source": [
    "not True"
   ]
  },
  {
   "cell_type": "code",
   "execution_count": 8,
   "metadata": {},
   "outputs": [
    {
     "data": {
      "text/plain": [
       "True"
      ]
     },
     "execution_count": 8,
     "metadata": {},
     "output_type": "execute_result"
    }
   ],
   "source": [
    "not False"
   ]
  },
  {
   "cell_type": "code",
   "execution_count": 9,
   "metadata": {},
   "outputs": [
    {
     "data": {
      "text/plain": [
       "False"
      ]
     },
     "execution_count": 9,
     "metadata": {},
     "output_type": "execute_result"
    }
   ],
   "source": [
    "not (5>3)"
   ]
  },
  {
   "cell_type": "code",
   "execution_count": 10,
   "metadata": {},
   "outputs": [
    {
     "data": {
      "text/plain": [
       "True"
      ]
     },
     "execution_count": 10,
     "metadata": {},
     "output_type": "execute_result"
    }
   ],
   "source": [
    "var2 = 4\n",
    "\n",
    "not((2+2) != var2)"
   ]
  },
  {
   "cell_type": "markdown",
   "metadata": {},
   "source": [
    "## Conjunción\n",
    "\n",
    "¿Qué pasa cuando tengo dos proposiciones, y necesito que ambas se cumplan para que la conclusión también se cumpla?\n",
    "\n",
    "Acá, la palabra clave es **Y**.\n",
    "\n",
    "* \"A mi me asustan todos los ratones Y la mascota de Susana es un ratón\".\n",
    "\n",
    "Tendré miedo de la mascota de Susana, ¿cierto o falso?\n",
    "\n",
    "¡Cierto!\n",
    "\n",
    "* \"Mi profesor favorito tiene el cabello negro y más de 30 años.\"\n",
    "\n",
    "¿Soy yo el profesor favorito de ese alumno?\n",
    "\n",
    "No puede hablar de mí, puesto que yo sólo cumplo una de las condiciones...entonces, el resultado de las proposiciones es...\n",
    "\n",
    "¡Falso!"
   ]
  },
  {
   "cell_type": "markdown",
   "metadata": {},
   "source": [
    "Para ayudarnos a entender los resultados de la conjunción, utilizaremos algo llamado _Tablas de Verdad_.\n",
    "\n",
    "![image](https://www.ecured.cu/images/0/00/Conjuncion.jpeg)\n",
    "\n",
    "Es decir, en la conjunción (Representada con el símbolo **Ʌ**) el resultado será verdadero sólo si ambas proposiciones son verdaderas.\n",
    "\n",
    "**En Python,** dependiendo del problema, el operador de conjunción se suele expresar con el símbolo `&` y/o la palabra **and**."
   ]
  },
  {
   "cell_type": "code",
   "execution_count": 22,
   "metadata": {},
   "outputs": [
    {
     "data": {
      "text/plain": [
       "True"
      ]
     },
     "execution_count": 22,
     "metadata": {},
     "output_type": "execute_result"
    }
   ],
   "source": [
    "True & True"
   ]
  },
  {
   "cell_type": "code",
   "execution_count": 12,
   "metadata": {},
   "outputs": [
    {
     "data": {
      "text/plain": [
       "False"
      ]
     },
     "execution_count": 12,
     "metadata": {},
     "output_type": "execute_result"
    }
   ],
   "source": [
    "var_bool = False\n",
    "\n",
    "False and var_bool"
   ]
  },
  {
   "cell_type": "code",
   "execution_count": 17,
   "metadata": {},
   "outputs": [
    {
     "data": {
      "text/plain": [
       "False"
      ]
     },
     "execution_count": 17,
     "metadata": {},
     "output_type": "execute_result"
    }
   ],
   "source": [
    "True & (2 + 2 == 5 )"
   ]
  },
  {
   "cell_type": "code",
   "execution_count": 21,
   "metadata": {},
   "outputs": [
    {
     "data": {
      "text/plain": [
       "True"
      ]
     },
     "execution_count": 21,
     "metadata": {},
     "output_type": "execute_result"
    }
   ],
   "source": [
    "var_num1 = 3\n",
    "var_num2 = 5\n",
    "\n",
    "(var_num1 < var_num2) and (var_num1 * 2 > var_num2)"
   ]
  },
  {
   "cell_type": "code",
   "execution_count": null,
   "metadata": {},
   "outputs": [],
   "source": [
    "## Disyunción\n",
    "\n"
   ]
  }
 ],
 "metadata": {
  "kernelspec": {
   "display_name": "Python 3",
   "language": "python",
   "name": "python3"
  },
  "language_info": {
   "codemirror_mode": {
    "name": "ipython",
    "version": 3
   },
   "file_extension": ".py",
   "mimetype": "text/x-python",
   "name": "python",
   "nbconvert_exporter": "python",
   "pygments_lexer": "ipython3",
   "version": "3.7.3"
  }
 },
 "nbformat": 4,
 "nbformat_minor": 2
}
