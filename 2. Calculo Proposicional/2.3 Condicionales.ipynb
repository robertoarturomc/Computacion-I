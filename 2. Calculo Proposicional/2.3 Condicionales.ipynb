{
 "cells": [
  {
   "cell_type": "markdown",
   "metadata": {},
   "source": [
    "# 2.3 Condicionales\n",
    "\n",
    "En ocasiones, nos toparemos con situaciones en las cuáles debamos escoger entre una u otra opción. Por ejemplo, al pedir una pizza, tendremos que escoger un tamaño. ¿De qué depende? De cuántos seamos y cuánta hambre tengamos. Si somos dos, por ejemplo, bastará con una pizza chica. Pero, si somos 5 personas, tendremos que pedir una o más pizzas grandes.\n",
    "\n",
    "Como esa toma de decisiones (tamaño de la pizza, en el ejemplo) se basa en el cumplimiento de una o más condiciones (el número de personas), llamaremos a esta instrucción como una **sentencia condicional.**"
   ]
  },
  {
   "cell_type": "markdown",
   "metadata": {},
   "source": [
    "![image](https://www.tutorialesprogramacionya.com/javaya/imagentema/foto032.jpg)"
   ]
  },
  {
   "cell_type": "markdown",
   "metadata": {},
   "source": [
    "La forma de escribir estas condiciones en código de Python es de la siguiente forma:\n",
    "\n",
    "`if <condicion> :\n",
    "    Código que se corre si la condición es cierta`\n",
    "    \n",
    "Debo prestar atención a que:\n",
    "* Termine la línea del *if* con dos puntos.\n",
    "* < condicion > suele ser una operación comparativa, como las vistas en la lección anterior.\n",
    "* El código subordinado (las instrucciones que pretendo correr si se cumple el *if*, van indentadas)."
   ]
  },
  {
   "cell_type": "code",
   "execution_count": null,
   "metadata": {},
   "outputs": [],
   "source": [
    "x = 1\n",
    "y = 10"
   ]
  },
  {
   "cell_type": "code",
   "execution_count": null,
   "metadata": {},
   "outputs": [],
   "source": [
    "# Revisa si un valor es igual al otro.\n",
    "if x == 1:\n",
    "    print(\"x es igual a 1\")"
   ]
  },
  {
   "cell_type": "code",
   "execution_count": null,
   "metadata": {},
   "outputs": [],
   "source": [
    "# Revisa si un valor NO es igual al otro.\n",
    "if y != 1:\n",
    "    print(\"y no es igual a 1\")"
   ]
  },
  {
   "cell_type": "code",
   "execution_count": null,
   "metadata": {},
   "outputs": [],
   "source": [
    "# Revisa si un valor es menor que el otro\n",
    "if x < y:\n",
    "    print(\"x es menor que y\")"
   ]
  },
  {
   "cell_type": "code",
   "execution_count": null,
   "metadata": {},
   "outputs": [],
   "source": [
    "# Revisa si un valor es mayor que el otro.\n",
    "if y > x:\n",
    "    print(\"y es mayor que x\")"
   ]
  },
  {
   "cell_type": "code",
   "execution_count": null,
   "metadata": {},
   "outputs": [],
   "source": [
    "# Revisa si un valor es mayor que o igual al otro.\n",
    "if x >= 1:\n",
    "    print(\"x es mayor que o igual a  1\")"
   ]
  },
  {
   "cell_type": "markdown",
   "metadata": {},
   "source": [
    "Ocupando las palabras **and** y **or**, puedo crear sentencias que ocupen más de una condicional.\n",
    "\n",
    "* Si quiero que ambas condiciones se cumplan, uso **and**\n",
    "* Si sólo basta con que alguna de las condiciones se cumpla, uso **or¨**."
   ]
  },
  {
   "cell_type": "code",
   "execution_count": null,
   "metadata": {},
   "outputs": [],
   "source": [
    "# Revisa si se cumplen dos condiciones\n",
    "if x == 1 and y == 10:\n",
    "    print(\"Ambas condiciones son ciertas\")"
   ]
  },
  {
   "cell_type": "code",
   "execution_count": null,
   "metadata": {},
   "outputs": [],
   "source": [
    "# Revisa si se cumple al menos una de las dos condiciones\n",
    "if x < 45 or y < 5:\n",
    "    print(\"Una o más condiciones fue cierta\")"
   ]
  },
  {
   "attachments": {
    "image.png": {
     "image/png": "[encoded data removed]"
    }
   },
   "cell_type": "markdown",
   "metadata": {},
   "source": [
    "Incluso, podemos poner una condición dentro de otra condición. En ese caso, evaluaremos la primera, y en caso de que se cumpla, se evaluará la segunda. A esas condiciones les llamamos **anidadas**.\n",
    "\n",
    "![image.png](attachment:image.png)"
   ]
  },
  {
   "cell_type": "code",
   "execution_count": null,
   "metadata": {},
   "outputs": [],
   "source": [
    "# Condiciones anidadas\n",
    "if x < 10:\n",
    "    if y < 5:\n",
    "        print(\"x es menor que 10 & y es menor que 5\")\n",
    "    elif y == 5:\n",
    "        print(\"x es menor que 10 & y es igual a 5\")\n",
    "    else:\n",
    "        print(\"x es menor que 10 & y es mayor que 5\")\n",
    "        \n",
    "print(\"Esta línea, como ya no está recorrida, sino pegada a la izquierda, se correrá independientemente de las condiciones.\")"
   ]
  },
  {
   "cell_type": "markdown",
   "metadata": {},
   "source": [
    "En este último ejemplo, introdujimos también las sentencias `elif` y `else`. Estas, **deben** estar alineadas con el `if` al que hacen referencia, y nos ayudan a establecer tareas extras en caso de que no se cumpla la condición original.\n",
    "\n",
    "También nota como las líneas que ya no aparecen indentadas, están fuera de la condición, y se realizan de manera independiente."
   ]
  },
  {
   "cell_type": "code",
   "execution_count": null,
   "metadata": {},
   "outputs": [],
   "source": []
  }
 ],
 "metadata": {
  "kernelspec": {
   "display_name": "Python 3",
   "language": "python",
   "name": "python3"
  },
  "language_info": {
   "codemirror_mode": {
    "name": "ipython",
    "version": 3
   },
   "file_extension": ".py",
   "mimetype": "text/x-python",
   "name": "python",
   "nbconvert_exporter": "python",
   "pygments_lexer": "ipython3",
   "version": "3.7.3"
  }
 },
 "nbformat": 4,
 "nbformat_minor": 2
}
