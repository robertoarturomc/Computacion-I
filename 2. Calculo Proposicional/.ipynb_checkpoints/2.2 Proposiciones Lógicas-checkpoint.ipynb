{
 "cells": [
  {
   "cell_type": "markdown",
   "metadata": {},
   "source": [
    "# 2.2 Proposiciones Lógicas.\n",
    "\n",
    "¿Recuerdas los valores Booleanos?"
   ]
  },
  {
   "cell_type": "code",
   "execution_count": null,
   "metadata": {},
   "outputs": [],
   "source": [
    "True"
   ]
  },
  {
   "cell_type": "code",
   "execution_count": null,
   "metadata": {},
   "outputs": [],
   "source": [
    "False"
   ]
  },
  {
   "cell_type": "markdown",
   "metadata": {},
   "source": [
    "El primer gran uso que vamos a ver con ellos tiene que ver con tooooda una rama de la matemática denominada **Lógica**, muy importante en computación. A continuación, tomaremos un curso exprés, que iremos complementando poco a poco dentro de otros temas.\n",
    "\n",
    "La lógica trabaja con problemas muy típicos de la vida real. Piensa en estas oraciones:\n",
    "\n",
    "1. Enero es el primer mes del año.\n",
    "2. Pi es menor que 4.\n",
    "3. Han disparó primero.\n",
    "4. Estamos como a un minuto de aterrizar. A menos, como a 5 minutos.\n",
    "\n",
    "A este tipo de oraciones las podemos llamar **proposiciones**. ¿Qué las distingue? Cada una de ellas la podemos considerar como _verdadera_ o como _falsa_, sin dudarlo.\n",
    "\n",
    "Eso sí. La mayoría de las veces, pero no siempre, nuestras proposiciones serán del tipo numéricas (¿recuerdas los operadores de comparación?). "
   ]
  },
  {
   "cell_type": "code",
   "execution_count": null,
   "metadata": {},
   "outputs": [],
   "source": [
    "1 < 5"
   ]
  },
  {
   "cell_type": "code",
   "execution_count": null,
   "metadata": {},
   "outputs": [],
   "source": [
    "(21 % 2) == 0"
   ]
  },
  {
   "cell_type": "code",
   "execution_count": null,
   "metadata": {},
   "outputs": [],
   "source": [
    "var1 = 5\n",
    "\n",
    "(var1 + 4) >= 9"
   ]
  },
  {
   "cell_type": "code",
   "execution_count": null,
   "metadata": {},
   "outputs": [],
   "source": [
    "var1 != 'var1'"
   ]
  },
  {
   "cell_type": "markdown",
   "metadata": {},
   "source": [
    "Pero bueno. Para nuestros ejemplos, ocuparemos oraciones como las que vimos anteriormente, antes de pasar a los números."
   ]
  },
  {
   "cell_type": "markdown",
   "metadata": {},
   "source": [
    "## Negación.\n",
    "\n",
    "Nuestro primer operador lógico es el más fácil de entender. La negación cambia las valores `True` a `False` y viceversa.\n",
    "\n",
    "* En Matemáticas, se suele usar el símbolo `¬`.\n",
    "\n",
    "* **En Python,** dependiendo del problema, el operador de negación se suele expresar con el símbolo `~` o la palabra **not**.\n",
    "\n",
    "\n",
    "Por ejemplo:\n",
    "\n",
    "~(\"El perro es negro\") = \"El perro **no** es negro\"."
   ]
  },
  {
   "cell_type": "code",
   "execution_count": null,
   "metadata": {},
   "outputs": [],
   "source": [
    "not True"
   ]
  },
  {
   "cell_type": "code",
   "execution_count": null,
   "metadata": {},
   "outputs": [],
   "source": [
    "not False"
   ]
  },
  {
   "cell_type": "code",
   "execution_count": null,
   "metadata": {},
   "outputs": [],
   "source": [
    "not (5>3)"
   ]
  },
  {
   "cell_type": "code",
   "execution_count": null,
   "metadata": {},
   "outputs": [],
   "source": [
    "var2 = 4\n",
    "\n",
    "not((2+2) != var2)"
   ]
  },
  {
   "cell_type": "markdown",
   "metadata": {},
   "source": [
    "## Conjunción\n",
    "\n",
    "¿Qué pasa cuando tengo dos proposiciones, y necesito que ambas se cumplan para que la conclusión también se cumpla?\n",
    "\n",
    "Acá, la palabra clave es **Y**.\n",
    "\n",
    "* \"A mi me asustan todos los ratones Y la mascota de Susana es un ratón\".\n",
    "\n",
    "Tendré miedo de la mascota de Susana, ¿cierto o falso?\n",
    "\n",
    "¡Cierto!\n",
    "\n",
    "* \"Mi profesor favorito tiene el cabello negro y más de 30 años.\"\n",
    "\n",
    "¿Soy yo el profesor favorito de ese alumno?\n",
    "\n",
    "No puede hablar de mí, puesto que yo sólo cumplo una de las condiciones...entonces, el resultado de las proposiciones es...\n",
    "\n",
    "¡Falso!"
   ]
  },
  {
   "cell_type": "markdown",
   "metadata": {},
   "source": [
    "Para ayudarnos a entender los resultados de la conjunción, utilizaremos algo llamado _Tablas de Verdad_.\n",
    "\n",
    "![image](https://matedisunidad3.files.wordpress.com/2011/10/conjuncion.jpg)\n",
    "\n",
    "Es decir, en la conjunción (Representada con el símbolo **Ʌ**) el resultado será verdadero sólo si ambas proposiciones son verdaderas.\n",
    "\n",
    "**En Python,** dependiendo del problema, el operador de conjunción se suele expresar con el símbolo `&` y/o la palabra **and**."
   ]
  },
  {
   "cell_type": "code",
   "execution_count": null,
   "metadata": {},
   "outputs": [],
   "source": [
    "True & True"
   ]
  },
  {
   "cell_type": "code",
   "execution_count": null,
   "metadata": {},
   "outputs": [],
   "source": [
    "var_bool = False\n",
    "\n",
    "False and var_bool"
   ]
  },
  {
   "cell_type": "code",
   "execution_count": null,
   "metadata": {},
   "outputs": [],
   "source": [
    "True & (2 + 2 == 5 )"
   ]
  },
  {
   "cell_type": "code",
   "execution_count": null,
   "metadata": {},
   "outputs": [],
   "source": [
    "var_num1 = 3\n",
    "var_num2 = 5\n",
    "\n",
    "(var_num1 < var_num2) and (var_num1 * 2 > var_num2)"
   ]
  },
  {
   "cell_type": "markdown",
   "metadata": {},
   "source": [
    "## Disyunción\n",
    "\n",
    "Ahora, tengo dos proposiciones, y sólo necesito que una de ellas se cumpla para que el argumento sea cierto.\n",
    "\n",
    "En este caso, la palabra clave es **O**.\n",
    "\n",
    "* \"Estudiaré una maestría sólo si me becan O es gratis.\"\n",
    "\n",
    "Si se cumple cualquiera de las dos condiciones, entonces sí estudiaré una maestría.\n",
    "\n",
    "¡Cierto!\n",
    "\n",
    "* \"¡Saldré contigo solamente si los cerdos vuelan O si fueras el último ser sobre la tierra!\"\n",
    "\n",
    "Bueno...ninguna de esas cosas es cierta, entonces...\n",
    "\n",
    "¡Falso!"
   ]
  },
  {
   "cell_type": "markdown",
   "metadata": {},
   "source": [
    "La Tabla de Verdad de la Disyunción se ve así:\n",
    "\n",
    "![image](https://matedisunidad3.files.wordpress.com/2011/10/disyuncion_exclusiva.jpg?w=193&h=115)\n",
    "\n",
    "En resumen, en la disyunción (Representada con el símbolo **V**) el resultado sólo será falso si ambas proposiciones son falsas.\n",
    "\n",
    "**En Python,** dependiendo del problema, el operador de conjunción se suele expresar con el símbolo `|` y/o la palabra **or**."
   ]
  },
  {
   "cell_type": "code",
   "execution_count": null,
   "metadata": {},
   "outputs": [],
   "source": [
    "True or False"
   ]
  },
  {
   "cell_type": "code",
   "execution_count": null,
   "metadata": {},
   "outputs": [],
   "source": [
    "False | ((1/5) != 0.2)"
   ]
  },
  {
   "cell_type": "code",
   "execution_count": null,
   "metadata": {},
   "outputs": [],
   "source": [
    "var_str = \"Leones\"\n",
    "\n",
    "(var_str == \"Leon\") or (len(var_str) > 3)"
   ]
  },
  {
   "cell_type": "markdown",
   "metadata": {},
   "source": [
    "## Implicación\n",
    "\n",
    "En este caso, tengo dos proposiciones: `p -> q` se leería como \"p implica q\"\n",
    "\n",
    "Las palabras claves son **si...entonces**.\n",
    "\n",
    "* \"Si tu prueba da positivo, entonces estás enfermo.\"\n",
    "\n",
    "Como la premisa es cierta, y la conclusión también, la implicación es cierta.\n",
    "\n",
    "* \"Si te gustan los animales, entonces eres buena persona.\"\n",
    "\n",
    "Bueno, a Hitler le gustaban los animales...pero no creo que podamos definirlo como una \"buena\" persona.\n",
    "Entonces, el argumento es ¡Falso!\n",
    "\n",
    "Este conectivo lógico es sumamente importante para las demostraciones matemáticas."
   ]
  },
  {
   "cell_type": "markdown",
   "metadata": {},
   "source": [
    "La Tabla de Verdad de la Implicación se ve así:\n",
    "\n",
    "![image](https://matedisunidad3.files.wordpress.com/2011/10/condicional1.jpg)\n",
    "\n",
    "En resumen, en la implicación (Representada con el símbolo **->**) el resultado sólo será falso si la premisa es cierta, pero la conclusión errónea.\n",
    "\n",
    "**En Python,** no vamos a utilizar la implicación directamente, como los otros tres operadores lógicos...pero será vital para unas sentencias que veremos más adelante, llamadas _condicionales_..."
   ]
  },
  {
   "cell_type": "markdown",
   "metadata": {},
   "source": [
    "### En Resumen:\n",
    "\n",
    "* **and** sólo dará _True_ si los dos argumentos son _True_\n",
    "* **or** sólo dará _False_ si los dos argumentos son _False_\n",
    "* **not** sólo cambia _True_ a _False_ y viceversa.\n",
    "* **if...else** servirá para hacer condicionales y demostraciones matemáticas.\n",
    "\n",
    "Tip: Googlea \"Tablas de verdad\" cuando tengas duda de los resultados.\n",
    "\n",
    "¡Los operadores lógicos se aplican después de las operaciones de comparación!"
   ]
  },
  {
   "cell_type": "code",
   "execution_count": null,
   "metadata": {},
   "outputs": [],
   "source": []
  }
 ],
 "metadata": {
  "kernelspec": {
   "display_name": "Python 3",
   "language": "python",
   "name": "python3"
  },
  "language_info": {
   "codemirror_mode": {
    "name": "ipython",
    "version": 3
   },
   "file_extension": ".py",
   "mimetype": "text/x-python",
   "name": "python",
   "nbconvert_exporter": "python",
   "pygments_lexer": "ipython3",
   "version": "3.7.3"
  }
 },
 "nbformat": 4,
 "nbformat_minor": 2
}
